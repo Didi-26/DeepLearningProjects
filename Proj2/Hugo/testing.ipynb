{
 "cells": [
  {
   "cell_type": "code",
   "execution_count": 1,
   "metadata": {},
   "outputs": [],
   "source": [
    "import torch\n",
    "import framework\n",
    "import math\n",
    "import matplotlib.pyplot as plt\n",
    "plt.style.use('dark_background')\n",
    "%config InlineBackend.print_figure_kwargs={'facecolor' : '#00000000'}"
   ]
  },
  {
   "cell_type": "code",
   "execution_count": 2,
   "metadata": {},
   "outputs": [],
   "source": [
    "def generate_disc_set(nb):\n",
    "    # generate unif samples\n",
    "    p = torch.FloatTensor(nb, 2).uniform_(0, 1)\n",
    "    # assign label inside/outside circle\n",
    "    center = torch.tensor([0.5,0.5]).float()\n",
    "    inside = ( torch.norm(p-center, dim=1) < (1.0 / math.sqrt(2*math.pi)) )\n",
    "    # Hot encoding\n",
    "    label = torch.zeros(inside.shape[0], 2)\n",
    "    label[inside,1] = 1\n",
    "    label[-(inside-1),0] = 1\n",
    "    return p, label"
   ]
  },
  {
   "cell_type": "code",
   "execution_count": 3,
   "metadata": {},
   "outputs": [],
   "source": [
    "N = 1000\n",
    "x_train, y_train = generate_disc_set(N)\n",
    "x_test, y_test = generate_disc_set(N)"
   ]
  },
  {
   "cell_type": "code",
   "execution_count": 4,
   "metadata": {},
   "outputs": [
    {
     "data": {
      "text/plain": [
       "<Figure size 400x400 with 0 Axes>"
      ]
     },
     "execution_count": 4,
     "metadata": {},
     "output_type": "execute_result"
    },
    {
     "data": {
      "image/png": "[encoded data removed]",
      "text/plain": [
       "<Figure size 432x288 with 1 Axes>"
      ]
     },
     "metadata": {
      "needs_background": "dark"
     },
     "output_type": "display_data"
    },
    {
     "data": {
      "text/plain": [
       "<Figure size 400x400 with 0 Axes>"
      ]
     },
     "metadata": {},
     "output_type": "display_data"
    }
   ],
   "source": [
    "plt.axis([-1,2,-1,2])\n",
    "plt.scatter(x_train[y_train[:,1] ==1][:,0], x_train[y_train[:,1] ==1][:,1])\n",
    "plt.scatter(x_train[y_train[:,0] ==1][:,0], x_train[y_train[:,0] ==1][:,1])\n",
    "plt.figure(figsize=(5,5), dpi=80)"
   ]
  },
  {
   "cell_type": "code",
   "execution_count": 5,
   "metadata": {},
   "outputs": [],
   "source": [
    "H = 25 # hidden layer size\n",
    "hidden_nb = 3 # hidden layer amount\n",
    "modules_array = []\n",
    "\n",
    "# Input layer\n",
    "modules_array.append(framework.Linear(2, H, 'relu'))\n",
    "# Hidden layers\n",
    "for i in range(0, hidden_nb):\n",
    "    modules_array.append(framework.ReLU())\n",
    "    modules_array.append(framework.Linear(H, H, 'relu'))\n",
    "# Output layer\n",
    "modules_array.append(framework.ReLU())\n",
    "modules_array.append(framework.Linear(H, 2, 'none'))\n",
    "\n",
    "model = framework.Sequential(modules_array)"
   ]
  },
  {
   "cell_type": "code",
   "execution_count": 6,
   "metadata": {},
   "outputs": [],
   "source": [
    "def train(model, x_train, y_train) :\n",
    "    mini_batch_size = 100\n",
    "    epochs = 10\n",
    "    lr = 1e-1\n",
    "    train_error_hist = []\n",
    "    test_error_hist = []\n",
    "    optimizer = framework.SGD(model.param(), lr)\n",
    "    for e in range(0, epochs):\n",
    "         for b in range(0, x_train.size(0), mini_batch_size):\n",
    "                # Forward pass of neural net\n",
    "                x_batch = x_train.narrow(0, b, mini_batch_size)\n",
    "                y_batch = y_train.narrow(0, b, mini_batch_size)\n",
    "                output = model.forward(x_batch)\n",
    "                # Compute loss\n",
    "                loss_module = framework.LossMSE(y_batch)\n",
    "                loss = loss_module.forward(output)\n",
    "                print(loss.item())\n",
    "                # Set all gradients to zero\n",
    "                optimizer.zero_grad()\n",
    "                # Backward\n",
    "                model.backward(loss_module.backward())\n",
    "                # Step\n",
    "                optimizer.step()"
   ]
  },
  {
   "cell_type": "code",
   "execution_count": 7,
   "metadata": {},
   "outputs": [
    {
     "name": "stdout",
     "output_type": "stream",
     "text": [
      "0.6223676800727844\n",
      "0.7174223065376282\n",
      "0.6906213164329529\n",
      "0.6208412051200867\n",
      "0.6630946397781372\n",
      "0.6884533762931824\n",
      "0.710703432559967\n",
      "0.6138870716094971\n",
      "0.7324012517929077\n",
      "0.6139032244682312\n",
      "0.5996282696723938\n",
      "0.6784780621528625\n",
      "0.6574439406394958\n",
      "0.598341703414917\n",
      "0.6357068419456482\n",
      "0.6621880531311035\n",
      "0.6750043630599976\n",
      "0.6027861833572388\n",
      "0.6968399882316589\n",
      "0.6013534665107727\n",
      "0.5866118669509888\n",
      "0.6530011892318726\n",
      "0.6366734504699707\n",
      "0.5851330757141113\n",
      "0.6180174350738525\n",
      "0.6442683935165405\n",
      "0.6514675617218018\n",
      "0.5956509113311768\n",
      "0.6717309355735779\n",
      "0.5929725170135498\n",
      "0.5783730745315552\n",
      "0.6350427865982056\n",
      "0.6224223375320435\n",
      "0.5767449140548706\n",
      "0.6056733131408691\n",
      "0.631113588809967\n",
      "0.6351149082183838\n",
      "0.5906297564506531\n",
      "0.6531631350517273\n",
      "0.586931586265564\n",
      "0.5729579329490662\n",
      "0.621782124042511\n",
      "0.612247109413147\n",
      "0.5710421204566956\n",
      "0.5967158675193787\n",
      "0.6210451126098633\n",
      "0.6232712864875793\n",
      "0.5866407155990601\n",
      "0.6390132308006287\n",
      "0.5822588205337524\n",
      "0.569132387638092\n",
      "0.6114161014556885\n",
      "0.6044905781745911\n",
      "0.5668688416481018\n",
      "0.5899106860160828\n",
      "0.6128697395324707\n",
      "0.6141979694366455\n",
      "0.5832222700119019\n",
      "0.6277933120727539\n",
      "0.5784257650375366\n",
      "0.5661464929580688\n",
      "0.6029496192932129\n",
      "0.5983019471168518\n",
      "0.5636681914329529\n",
      "0.5844922065734863\n",
      "0.6059969663619995\n",
      "0.6069754958152771\n",
      "0.5801116824150085\n",
      "0.6186491250991821\n",
      "0.5750937461853027\n",
      "0.563650369644165\n",
      "0.5958881378173828\n",
      "0.593146800994873\n",
      "0.5610883831977844\n",
      "0.5799241065979004\n",
      "0.6000686287879944\n",
      "0.6009479761123657\n",
      "0.5772183537483215\n",
      "0.610874354839325\n",
      "0.5720516443252563\n",
      "0.5614835619926453\n",
      "0.5898339748382568\n",
      "0.5887460708618164\n",
      "0.5588093996047974\n",
      "0.575933575630188\n",
      "0.5948487520217896\n",
      "0.5957526564598083\n",
      "0.5744648575782776\n",
      "0.6041499376296997\n",
      "0.569283127784729\n",
      "0.5594966411590576\n",
      "0.5845382809638977\n",
      "0.5848295092582703\n",
      "0.556723952293396\n",
      "0.5723981261253357\n",
      "0.5902248620986938\n",
      "0.5912353992462158\n",
      "0.5718173384666443\n",
      "0.5983237624168396\n",
      "0.5666961669921875\n"
     ]
    }
   ],
   "source": [
    "loss_hist = train(model, x_train, y_train)"
   ]
  }
 ],
 "metadata": {
  "kernelspec": {
   "display_name": "Python 3",
   "language": "python",
   "name": "python3"
  },
  "language_info": {
   "codemirror_mode": {
    "name": "ipython",
    "version": 3
   },
   "file_extension": ".py",
   "mimetype": "text/x-python",
   "name": "python",
   "nbconvert_exporter": "python",
   "pygments_lexer": "ipython3",
   "version": "3.6.8"
  }
 },
 "nbformat": 4,
 "nbformat_minor": 2
}
