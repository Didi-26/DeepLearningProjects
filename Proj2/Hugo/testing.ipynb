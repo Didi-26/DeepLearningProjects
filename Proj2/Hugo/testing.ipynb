{
 "cells": [
  {
   "cell_type": "code",
   "execution_count": null,
   "metadata": {},
   "outputs": [],
   "source": [
    "import torch\n",
    "import framework\n",
    "import math\n",
    "import matplotlib.pyplot as plt\n",
    "plt.style.use('dark_background')\n",
    "%config InlineBackend.print_figure_kwargs={'facecolor' : '#00000000'}"
   ]
  },
  {
   "cell_type": "code",
   "execution_count": null,
   "metadata": {},
   "outputs": [],
   "source": [
    "def generate_disc_set(nb):\n",
    "    # generate unif samples\n",
    "    p = torch.FloatTensor(nb, 2).uniform_(0, 1)\n",
    "    # assign label inside/outside circle\n",
    "    center = torch.tensor([0.5,0.5]).float()\n",
    "    inside = ( torch.norm(p-center, dim=1) < (1.0 / math.sqrt(2*math.pi)) )\n",
    "    # Hot encoding\n",
    "    label = torch.zeros(inside.shape[0], 2)\n",
    "    label[inside,1] = 1\n",
    "    label[-(inside-1),0] = 1\n",
    "    return p, label"
   ]
  },
  {
   "cell_type": "code",
   "execution_count": null,
   "metadata": {},
   "outputs": [],
   "source": [
    "N = 1000\n",
    "x_train, y_train = generate_disc_set(N)\n",
    "x_test, y_test = generate_disc_set(N)"
   ]
  },
  {
   "cell_type": "code",
   "execution_count": null,
   "metadata": {},
   "outputs": [],
   "source": [
    "plt.axis([-2,2,-2,2])\n",
    "plt.scatter(x_train[y_train[:,1] ==1][:,0], x_train[y_train[:,1] ==1][:,1])\n",
    "plt.scatter(x_train[y_train[:,0] ==1][:,0], x_train[y_train[:,0] ==1][:,1])\n",
    "plt.figure(figsize=(5,5), dpi=80)"
   ]
  },
  {
   "cell_type": "code",
   "execution_count": null,
   "metadata": {},
   "outputs": [],
   "source": [
    "H = 25 # hidden layer size\n",
    "hidden_nb = 3 # hidden layer amount\n",
    "modules_array = []\n",
    "\n",
    "# Input layer\n",
    "modules_array.append(framework.Linear(2, H, 'relu'))\n",
    "# Hidden layers\n",
    "for i in range(0, hidden_nb):\n",
    "    modules_array.append(framework.ReLU())\n",
    "    modules_array.append(framework.Linear(H, H, 'relu'))\n",
    "# Output layer\n",
    "modules_array.append(framework.ReLU())\n",
    "modules_array.append(framework.Linear(H, 2, 'none'))\n",
    "\n",
    "model = framework.Sequential(modules_array)"
   ]
  },
  {
   "cell_type": "code",
   "execution_count": null,
   "metadata": {},
   "outputs": [],
   "source": [
    "def train(model, x_train, y_train) :\n",
    "    mini_batch_size = 100\n",
    "    epochs = 10\n",
    "    lr = 1e-1\n",
    "    optimizer = framework.SGD(model.param(), lr)\n",
    "    for e in range(0, epochs):\n",
    "         for b in range(0, x_train.size(0), mini_batch_size):\n",
    "                # Forward pass of neural net\n",
    "                x_batch = x_train.narrow(0, b, mini_batch_size)\n",
    "                y_batch = y_train.narrow(0, b, mini_batch_size)\n",
    "                output = model.forward(x_batch)\n",
    "                # Compute loss\n",
    "                loss_module = framework.LossMSE(y_batch)\n",
    "                loss = loss_module.forward(output)\n",
    "                print(loss.item())\n",
    "                # Set all gradients to zero\n",
    "                optimizer.zero_grad()\n",
    "                # Backward\n",
    "                model.backward(loss_module.backward())\n",
    "                # Step\n",
    "                optimizer.step()\n",
    "                "
   ]
  },
  {
   "cell_type": "code",
   "execution_count": null,
   "metadata": {},
   "outputs": [],
   "source": [
    "train(model, x_train, y_train)"
   ]
  },
  {
   "cell_type": "code",
   "execution_count": null,
   "metadata": {},
   "outputs": [],
   "source": [
    "#def test(model, x_test, y_test):\n",
    "#    output = model.forward(x_test)\n",
    "#    error_percent = arg"
   ]
  },
  {
   "cell_type": "code",
   "execution_count": null,
   "metadata": {},
   "outputs": [],
   "source": [
    "#def compute_nb_errors(model, data_input, data_target) :\n",
    "#    # Forward pass\n",
    "#    output = model(data_input)\n",
    "#    # Count errors\n",
    "#    errors = (output.argmax(dim=1) != data_target)\n",
    "#    return errors.sum().item()"
   ]
  },
  {
   "cell_type": "code",
   "execution_count": null,
   "metadata": {},
   "outputs": [],
   "source": []
  },
  {
   "cell_type": "code",
   "execution_count": null,
   "metadata": {},
   "outputs": [],
   "source": []
  },
  {
   "cell_type": "code",
   "execution_count": null,
   "metadata": {},
   "outputs": [],
   "source": []
  },
  {
   "cell_type": "code",
   "execution_count": null,
   "metadata": {},
   "outputs": [],
   "source": []
  },
  {
   "cell_type": "code",
   "execution_count": null,
   "metadata": {},
   "outputs": [],
   "source": []
  },
  {
   "cell_type": "code",
   "execution_count": null,
   "metadata": {},
   "outputs": [],
   "source": []
  },
  {
   "cell_type": "code",
   "execution_count": null,
   "metadata": {},
   "outputs": [],
   "source": []
  },
  {
   "cell_type": "code",
   "execution_count": null,
   "metadata": {},
   "outputs": [],
   "source": []
  },
  {
   "cell_type": "code",
   "execution_count": null,
   "metadata": {},
   "outputs": [],
   "source": []
  },
  {
   "cell_type": "code",
   "execution_count": null,
   "metadata": {},
   "outputs": [],
   "source": []
  }
 ],
 "metadata": {
  "kernelspec": {
   "display_name": "Python 3",
   "language": "python",
   "name": "python3"
  },
  "language_info": {
   "codemirror_mode": {
    "name": "ipython",
    "version": 3
   },
   "file_extension": ".py",
   "mimetype": "text/x-python",
   "name": "python",
   "nbconvert_exporter": "python",
   "pygments_lexer": "ipython3",
   "version": "3.6.8"
  }
 },
 "nbformat": 4,
 "nbformat_minor": 2
}
