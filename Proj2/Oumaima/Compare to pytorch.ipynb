{
 "cells": [
  {
   "cell_type": "code",
   "execution_count": 1,
   "metadata": {},
   "outputs": [],
   "source": [
    "import torch\n",
    "from torch.autograd import Variable\n",
    "from torch import nn\n",
    "from torch.nn import functional as F\n",
    "from torch.autograd import Variable\n",
    "import framework\n",
    "import matplotlib.pyplot as plt"
   ]
  },
  {
   "cell_type": "markdown",
   "metadata": {},
   "source": [
    "### Test of computation of loss"
   ]
  },
  {
   "cell_type": "code",
   "execution_count": 6,
   "metadata": {},
   "outputs": [],
   "source": [
    "loss_error = []\n",
    "for n in range(100):\n",
    "    y_output = torch.randn((5,2))\n",
    "    y_target = torch.randn((5,2))\n",
    "    loss_module = framework.LossMSE(y_target)\n",
    "    our_loss = loss_module.forward(y_output)\n",
    "    loss_mod_torch = nn.MSELoss()\n",
    "    pytorch_loss = loss_mod_torch(y_output, y_target)\n",
    "    loss_error.append(abs(our_loss.item() - pytorch_loss.item()))"
   ]
  },
  {
   "cell_type": "code",
   "execution_count": 8,
   "metadata": {},
   "outputs": [
    {
     "data": {
      "text/plain": [
       "tensor(8.7619e-08)"
      ]
     },
     "execution_count": 8,
     "metadata": {},
     "output_type": "execute_result"
    }
   ],
   "source": [
    "torch.Tensor(loss_error).mean()"
   ]
  },
  {
   "cell_type": "markdown",
   "metadata": {},
   "source": [
    "### Test of forward pass"
   ]
  },
  {
   "cell_type": "code",
   "execution_count": 10,
   "metadata": {},
   "outputs": [],
   "source": [
    "H = 25\n",
    "hidden_nb = 1\n",
    "modules_array = []\n",
    "\n",
    "# Input layer\n",
    "modules_array.append(framework.Linear(2, H, 'relu'))\n",
    "# Hidden layers\n",
    "for i in range(0, hidden_nb):\n",
    "    modules_array.append(framework.ReLU())\n",
    "    modules_array.append(framework.Linear(H, H, 'relu'))\n",
    "# Output layer\n",
    "modules_array.append(framework.ReLU())\n",
    "modules_array.append(framework.Linear(H, 2, 'none'))\n",
    "\n",
    "model = framework.Sequential(modules_array)"
   ]
  },
  {
   "cell_type": "code",
   "execution_count": 11,
   "metadata": {},
   "outputs": [],
   "source": [
    "w0 = model.param()[0][0][0]\n",
    "b0 = model.param()[0][1][0]\n",
    "w1 = model.param()[2][0][0]\n",
    "b1 = model.param()[2][1][0]\n",
    "w2 = model.param()[4][0][0]\n",
    "b2 = model.param()[4][1][0]"
   ]
  },
  {
   "cell_type": "code",
   "execution_count": 12,
   "metadata": {},
   "outputs": [],
   "source": [
    "input_set = torch.randn(100,2)\n",
    "output = model.forward(input_set)"
   ]
  },
  {
   "cell_type": "code",
   "execution_count": 13,
   "metadata": {
    "scrolled": true
   },
   "outputs": [
    {
     "data": {
      "text/plain": [
       "tensor([[-1.7836e-01,  5.2251e-02],\n",
       "        [ 1.0734e-02, -3.6115e-02],\n",
       "        [ 5.1585e-01,  1.0165e-01],\n",
       "        [-3.7734e-02,  6.4549e-02],\n",
       "        [ 1.1146e+00, -7.2557e-02],\n",
       "        [-7.4668e-02,  2.8631e-03],\n",
       "        [ 5.4416e-01,  2.6930e-01],\n",
       "        [ 3.0362e-01, -1.8449e-02],\n",
       "        [ 5.3007e-01,  3.0853e-01],\n",
       "        [ 8.2506e-01,  5.8055e-01],\n",
       "        [-2.0837e-01,  6.2948e-02],\n",
       "        [ 1.4248e+00,  7.3748e-01],\n",
       "        [ 2.1688e-01,  1.1998e-01],\n",
       "        [ 4.5663e-01,  2.3180e-01],\n",
       "        [ 3.1076e-01,  2.1699e-01],\n",
       "        [ 3.7736e-01,  4.9637e-02],\n",
       "        [ 8.1878e-01,  1.0429e-01],\n",
       "        [ 3.2469e-01,  2.2102e-01],\n",
       "        [ 1.4784e-01,  2.0133e-02],\n",
       "        [ 3.8448e-01,  7.3769e-02],\n",
       "        [ 1.6008e-01,  1.0160e-01],\n",
       "        [ 5.6278e-01,  2.3536e-01],\n",
       "        [ 2.5034e-01,  2.8058e-03],\n",
       "        [ 6.3103e-01,  8.5099e-02],\n",
       "        [ 4.7210e-01, -2.9611e-02],\n",
       "        [-4.3422e-03, -5.2129e-02],\n",
       "        [ 1.7059e-01,  6.6104e-03],\n",
       "        [ 4.9986e-01,  2.0477e-01],\n",
       "        [ 5.6133e-01,  1.6646e-01],\n",
       "        [-3.8268e-02, -1.0260e-02],\n",
       "        [ 8.4532e-01,  2.2055e-01],\n",
       "        [ 2.8201e-01,  1.9193e-02],\n",
       "        [ 6.5961e-02,  2.9213e-02],\n",
       "        [ 5.3376e-01,  2.5405e-01],\n",
       "        [ 2.3616e-01,  8.8236e-02],\n",
       "        [ 6.2565e-01,  3.1815e-01],\n",
       "        [-7.0523e-03, -5.7304e-02],\n",
       "        [ 1.2647e+00,  1.9304e-01],\n",
       "        [ 2.1287e-01,  1.2209e-01],\n",
       "        [ 1.1034e-01, -8.4343e-02],\n",
       "        [ 6.8698e-01,  5.1087e-02],\n",
       "        [ 5.7770e-02, -5.2432e-02],\n",
       "        [ 2.1135e-01,  1.1214e-01],\n",
       "        [ 1.5306e+00,  6.6535e-01],\n",
       "        [ 1.0802e-02, -2.3755e-02],\n",
       "        [-6.6948e-02,  9.5274e-02],\n",
       "        [ 7.6329e-01,  1.5181e-01],\n",
       "        [ 4.1276e-01,  8.4238e-02],\n",
       "        [ 5.7647e-01,  3.8270e-01],\n",
       "        [ 9.4032e-01,  6.7056e-01],\n",
       "        [ 6.2099e-01,  3.9509e-01],\n",
       "        [ 1.1196e-01,  9.6633e-02],\n",
       "        [ 1.4023e+00,  6.3665e-01],\n",
       "        [ 5.9623e-01,  3.4570e-01],\n",
       "        [ 5.4522e-01,  2.3927e-01],\n",
       "        [ 7.0114e-01,  1.2995e-01],\n",
       "        [ 2.1144e-02, -1.5288e-02],\n",
       "        [ 6.2396e-01, -4.0541e-02],\n",
       "        [ 4.8602e-01,  1.0296e-03],\n",
       "        [ 7.9985e-01,  5.6662e-01],\n",
       "        [ 7.1498e-01,  4.1947e-01],\n",
       "        [ 3.7926e-01,  1.5071e-01],\n",
       "        [ 9.0373e-02,  4.2697e-03],\n",
       "        [ 2.7486e-01, -1.7347e-02],\n",
       "        [ 4.8714e-01,  2.8490e-01],\n",
       "        [ 1.3023e-01,  7.5098e-03],\n",
       "        [ 7.1845e-01,  5.1340e-01],\n",
       "        [ 2.4083e-01,  1.2501e-01],\n",
       "        [-1.1010e-02, -5.9319e-03],\n",
       "        [ 3.2114e-02,  2.3795e-03],\n",
       "        [ 1.2765e+00,  3.1516e-01],\n",
       "        [ 2.5783e-01,  6.0029e-04],\n",
       "        [ 3.0694e-01,  1.3421e-01],\n",
       "        [ 5.5001e-01, -2.8964e-02],\n",
       "        [ 1.9749e-01,  1.6362e-01],\n",
       "        [-1.6539e-02, -5.0157e-02],\n",
       "        [ 2.6619e-01,  1.1804e-01],\n",
       "        [ 8.3632e-01,  6.9021e-02],\n",
       "        [-1.3192e-01,  1.1871e-01],\n",
       "        [ 5.5384e-01,  2.5885e-01],\n",
       "        [ 2.2772e-02, -3.2139e-02],\n",
       "        [ 1.6917e-01,  1.2370e-01],\n",
       "        [ 4.2009e-01,  1.7253e-01],\n",
       "        [ 5.4918e-01,  1.5336e-01],\n",
       "        [ 2.4322e-01,  1.0889e-01],\n",
       "        [ 3.6492e-01,  1.4717e-01],\n",
       "        [ 8.7101e-02, -5.7549e-03],\n",
       "        [ 3.2930e-01,  7.6002e-02],\n",
       "        [ 1.4312e+00,  3.0857e-01],\n",
       "        [ 5.3096e-01, -3.4094e-02],\n",
       "        [ 4.3327e-01,  3.0593e-01],\n",
       "        [ 7.9048e-01,  1.4160e-01],\n",
       "        [ 3.4052e-01,  2.3450e-01],\n",
       "        [ 3.2043e-01, -1.1313e-02],\n",
       "        [ 9.5300e-02, -1.9505e-04],\n",
       "        [ 1.9357e-01,  2.3252e-01],\n",
       "        [ 3.5793e-02,  2.3853e-02],\n",
       "        [ 1.4160e+00,  1.4472e-01],\n",
       "        [ 3.1248e-01,  1.4338e-01],\n",
       "        [ 5.6629e-01,  1.8831e-01]])"
      ]
     },
     "execution_count": 13,
     "metadata": {},
     "output_type": "execute_result"
    }
   ],
   "source": [
    "output"
   ]
  },
  {
   "cell_type": "code",
   "execution_count": 14,
   "metadata": {},
   "outputs": [],
   "source": [
    "torch_model = nn.Sequential(\n",
    "      nn.Linear(2, H, bias=True),\n",
    "      nn.ReLU(),\n",
    "      nn.Linear(H, H, bias=True),\n",
    "      nn.ReLU(),\n",
    "      nn.Linear(H, 2),\n",
    "      )"
   ]
  },
  {
   "cell_type": "code",
   "execution_count": 15,
   "metadata": {},
   "outputs": [],
   "source": [
    "torch_model[0].weight.data = w0\n",
    "torch_model[0].bias.data = b0\n",
    "torch_model[2].weight.data = w1\n",
    "torch_model[2].bias.data = b1\n",
    "torch_model[4].weight.data = w2\n",
    "torch_model[4].bias.data = b2"
   ]
  },
  {
   "cell_type": "code",
   "execution_count": 16,
   "metadata": {},
   "outputs": [],
   "source": [
    "output_torch = torch_model(input_set)"
   ]
  },
  {
   "cell_type": "code",
   "execution_count": 17,
   "metadata": {
    "scrolled": true
   },
   "outputs": [
    {
     "data": {
      "text/plain": [
       "tensor(0.)"
      ]
     },
     "execution_count": 17,
     "metadata": {},
     "output_type": "execute_result"
    }
   ],
   "source": [
    "(output_torch - output).norm()"
   ]
  },
  {
   "cell_type": "markdown",
   "metadata": {},
   "source": [
    "### Test of backpropagation"
   ]
  },
  {
   "cell_type": "code",
   "execution_count": 18,
   "metadata": {},
   "outputs": [],
   "source": [
    "input_set = Variable(torch.randn(100,2))\n",
    "target = Variable(torch.randn(100,1))"
   ]
  },
  {
   "cell_type": "code",
   "execution_count": 19,
   "metadata": {},
   "outputs": [],
   "source": [
    "H = 25\n",
    "hidden_nb = 1\n",
    "modules_array = []\n",
    "\n",
    "# Input layer\n",
    "modules_array.append(framework.Linear(2, H, 'relu'))\n",
    "# Hidden layers\n",
    "for i in range(0, hidden_nb):\n",
    "    modules_array.append(framework.ReLU())\n",
    "    modules_array.append(framework.Linear(H, H, 'relu'))\n",
    "# Output layer\n",
    "modules_array.append(framework.ReLU())\n",
    "modules_array.append(framework.Linear(H, 1, 'none'))\n",
    "\n",
    "model = framework.Sequential(modules_array)"
   ]
  },
  {
   "cell_type": "code",
   "execution_count": 20,
   "metadata": {},
   "outputs": [],
   "source": [
    "w0 = model.param()[0][0][0]\n",
    "b0 = model.param()[0][1][0]\n",
    "w1 = model.param()[2][0][0]\n",
    "b1 = model.param()[2][1][0]\n",
    "w2 = model.param()[4][0][0]\n",
    "b2 = model.param()[4][1][0]"
   ]
  },
  {
   "cell_type": "code",
   "execution_count": 21,
   "metadata": {},
   "outputs": [],
   "source": [
    "torch_model = nn.Sequential(\n",
    "      nn.Linear(2, H, bias=True),\n",
    "      nn.ReLU(),\n",
    "      nn.Linear(H, H, bias=True),\n",
    "      nn.ReLU(),\n",
    "      nn.Linear(H, 1),\n",
    "      )"
   ]
  },
  {
   "cell_type": "code",
   "execution_count": 22,
   "metadata": {},
   "outputs": [],
   "source": [
    "torch_model[0].weight.data = w0\n",
    "torch_model[0].bias.data = b0\n",
    "torch_model[2].weight.data = w1\n",
    "torch_model[2].bias.data = b1\n",
    "torch_model[4].weight.data = w2\n",
    "torch_model[4].bias.data = b2"
   ]
  },
  {
   "cell_type": "code",
   "execution_count": 23,
   "metadata": {},
   "outputs": [],
   "source": [
    "output = model.forward(input_set)\n",
    "output_torch = torch_model(input_set)"
   ]
  },
  {
   "cell_type": "code",
   "execution_count": 24,
   "metadata": {},
   "outputs": [
    {
     "data": {
      "text/plain": [
       "tensor(0.)"
      ]
     },
     "execution_count": 24,
     "metadata": {},
     "output_type": "execute_result"
    }
   ],
   "source": [
    "(output_torch - output).norm()"
   ]
  },
  {
   "cell_type": "code",
   "execution_count": 25,
   "metadata": {},
   "outputs": [],
   "source": [
    "loss_module = framework.LossMSE(target)\n",
    "our_loss = loss_module.forward(output)\n",
    "loss_mod_torch = nn.MSELoss()\n",
    "pytorch_loss = Variable(loss_mod_torch(output_torch,target), requires_grad=True)"
   ]
  },
  {
   "cell_type": "code",
   "execution_count": 26,
   "metadata": {},
   "outputs": [
    {
     "data": {
      "text/plain": [
       "(tensor(1.0360, requires_grad=True), tensor(1.0360))"
      ]
     },
     "execution_count": 26,
     "metadata": {},
     "output_type": "execute_result"
    }
   ],
   "source": [
    "pytorch_loss, our_loss"
   ]
  },
  {
   "cell_type": "code",
   "execution_count": 27,
   "metadata": {
    "scrolled": true
   },
   "outputs": [],
   "source": [
    "grad = model.backward(loss_module.backward())\n",
    "grad_torch = model.backward(loss_module.backward())"
   ]
  },
  {
   "cell_type": "code",
   "execution_count": 28,
   "metadata": {
    "scrolled": true
   },
   "outputs": [
    {
     "data": {
      "text/plain": [
       "tensor(0.)"
      ]
     },
     "execution_count": 28,
     "metadata": {},
     "output_type": "execute_result"
    }
   ],
   "source": [
    "(grad - grad_torch).norm()"
   ]
  },
  {
   "cell_type": "markdown",
   "metadata": {},
   "source": [
    "### Test on an example "
   ]
  },
  {
   "cell_type": "code",
   "execution_count": 31,
   "metadata": {},
   "outputs": [],
   "source": [
    "import math"
   ]
  },
  {
   "cell_type": "code",
   "execution_count": 29,
   "metadata": {},
   "outputs": [],
   "source": [
    "def generate_disc_set(nb):\n",
    "    # generate unif samples\n",
    "    p = torch.FloatTensor(nb, 2).uniform_(0, 1)\n",
    "    # assign label inside/outside circle\n",
    "    center = torch.tensor([0.5,0.5]).float()\n",
    "    inside = ( torch.norm(p-center, dim=1) < (1.0 / math.sqrt(2*math.pi)) )\n",
    "    # Hot encoding\n",
    "    label = torch.zeros(inside.shape[0], 2)\n",
    "    label[inside==1,1] = 1\n",
    "    label[inside==0,0] = 1\n",
    "    return p, label"
   ]
  },
  {
   "cell_type": "code",
   "execution_count": 88,
   "metadata": {},
   "outputs": [],
   "source": [
    "N = 1000\n",
    "x_train, y_train = generate_disc_set(N)\n",
    "x_test, y_test = generate_disc_set(N)"
   ]
  },
  {
   "cell_type": "code",
   "execution_count": 89,
   "metadata": {},
   "outputs": [
    {
     "data": {
      "text/plain": [
       "<matplotlib.figure.Figure at 0x7f299c98de80>"
      ]
     },
     "execution_count": 89,
     "metadata": {},
     "output_type": "execute_result"
    },
    {
     "data": {
      "image/png": "[encoded data removed]",
      "text/plain": [
       "<matplotlib.figure.Figure at 0x7f299d214710>"
      ]
     },
     "metadata": {},
     "output_type": "display_data"
    },
    {
     "data": {
      "text/plain": [
       "<matplotlib.figure.Figure at 0x7f299c98de80>"
      ]
     },
     "metadata": {},
     "output_type": "display_data"
    }
   ],
   "source": [
    "plt.scatter(x_train[y_train[:,1] ==1][:,0], x_train[y_train[:,1] ==1][:,1])\n",
    "plt.scatter(x_train[y_train[:,0] ==1][:,0], x_train[y_train[:,0] ==1][:,1])\n",
    "plt.figure(figsize=(5,5), dpi=80)"
   ]
  },
  {
   "cell_type": "code",
   "execution_count": 109,
   "metadata": {},
   "outputs": [],
   "source": [
    "H = 25 # hidden layer size\n",
    "hidden_nb = 3 # hidden layer amount\n",
    "modules_array = []\n",
    "\n",
    "# Input layer\n",
    "modules_array.append(framework.Linear(2, H, 'relu'))\n",
    "# Hidden layers\n",
    "for i in range(0, hidden_nb):\n",
    "    modules_array.append(framework.ReLU())\n",
    "    modules_array.append(framework.Linear(H, H, 'relu'))\n",
    "# Output layer\n",
    "modules_array.append(framework.ReLU())\n",
    "modules_array.append(framework.Linear(H, 2, 'none'))\n",
    "\n",
    "model = framework.Sequential(modules_array)"
   ]
  },
  {
   "cell_type": "code",
   "execution_count": 110,
   "metadata": {
    "scrolled": true
   },
   "outputs": [],
   "source": [
    "def compute_error_percent(prediction, target) :\n",
    "    errors = (prediction.argmax(dim=1) != target.argmax(dim=1))\n",
    "    return (100 * errors.sum() / target.shape[0]).item()"
   ]
  },
  {
   "cell_type": "code",
   "execution_count": 111,
   "metadata": {},
   "outputs": [],
   "source": [
    "def compute_test_error(model, test_input, test_target) :\n",
    "    # Forward pass\n",
    "    output = model.forward(test_input)\n",
    "    # Compute error %\n",
    "    return compute_error_percent(output, test_target)"
   ]
  },
  {
   "cell_type": "code",
   "execution_count": 112,
   "metadata": {},
   "outputs": [],
   "source": [
    "def train(model, x_train, y_train) :\n",
    "    mini_batch_size = 200\n",
    "    epochs = 500\n",
    "    lr = 1e-2\n",
    "    train_loss_hist = []\n",
    "    train_error_hist = []\n",
    "    test_error_hist = []\n",
    "    optimizer = framework.SGD(model.param(), lr)\n",
    "    for e in range(0, epochs):\n",
    "        # variables to accumulate loss and error over the batches of this epoch\n",
    "        train_loss_buffer = 0\n",
    "        train_error_buffer = 0\n",
    "        for b in range(0, x_train.size(0), mini_batch_size):\n",
    "                # Forward pass of neural net\n",
    "                x_batch = x_train.narrow(0, b, mini_batch_size)\n",
    "                y_batch = y_train.narrow(0, b, mini_batch_size)\n",
    "                output = model.forward(x_batch)\n",
    "                # Compute loss\n",
    "                loss_module = framework.LossMSE(y_batch)\n",
    "                loss = loss_module.forward(output)\n",
    "                train_loss_buffer += loss.item()\n",
    "                # Compute train error\n",
    "                train_error_buffer += compute_error_percent(output,y_batch)\n",
    "                # Set all gradients to zero\n",
    "                optimizer.zero_grad()\n",
    "                # Backward\n",
    "                model.backward(loss_module.backward())\n",
    "                # Step\n",
    "                optimizer.step()\n",
    "        # Store average loss & error for this epoch\n",
    "        batch_per_epoch = x_train.size(0) / mini_batch_size\n",
    "        train_loss_hist.append(train_loss_buffer / batch_per_epoch)\n",
    "        train_error_hist.append(train_error_buffer / batch_per_epoch)\n",
    "        # Compute a test error\n",
    "        test_error_hist.append(compute_test_error(model, x_test, y_test))\n",
    "    return train_loss_hist, train_error_hist, test_error_hist"
   ]
  },
  {
   "cell_type": "code",
   "execution_count": 113,
   "metadata": {},
   "outputs": [
    {
     "data": {
      "image/png": "[encoded data removed]",
      "text/plain": [
       "<matplotlib.figure.Figure at 0x7f299c86ea90>"
      ]
     },
     "metadata": {},
     "output_type": "display_data"
    },
    {
     "data": {
      "image/png": "[encoded data removed]",
      "text/plain": [
       "<matplotlib.figure.Figure at 0x7f299c770f98>"
      ]
     },
     "metadata": {},
     "output_type": "display_data"
    }
   ],
   "source": [
    "train_loss_hist, train_error_hist, test_error_hist = train(model, x_train, y_train)\n",
    "\n",
    "plt.figure(figsize=(10,5), dpi=80)\n",
    "plt.plot(train_loss_hist,label='train MSE loss')\n",
    "plt.ylabel('MSE loss')\n",
    "plt.xlabel('Epoch')\n",
    "plt.legend()\n",
    "plt.show()\n",
    "\n",
    "plt.figure(figsize=(10,5), dpi=80)\n",
    "plt.plot(train_error_hist,label='train error %')\n",
    "plt.plot(test_error_hist, label='test error %')\n",
    "plt.ylabel('Error %')\n",
    "plt.xlabel('Epoch')\n",
    "plt.legend()\n",
    "plt.show()"
   ]
  }
 ],
 "metadata": {
  "kernelspec": {
   "display_name": "Python 3",
   "language": "python",
   "name": "python3"
  },
  "language_info": {
   "codemirror_mode": {
    "name": "ipython",
    "version": 3
   },
   "file_extension": ".py",
   "mimetype": "text/x-python",
   "name": "python",
   "nbconvert_exporter": "python",
   "pygments_lexer": "ipython3",
   "version": "3.6.4"
  }
 },
 "nbformat": 4,
 "nbformat_minor": 2
}
