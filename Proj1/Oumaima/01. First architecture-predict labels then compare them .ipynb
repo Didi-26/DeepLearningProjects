{
 "cells": [
  {
   "cell_type": "markdown",
   "metadata": {},
   "source": [
    "### First architecture: \n",
    "As a first architecture, we reshape the data in order to only learn the classes of each image. The comparison of labels is done as a post-processing step. "
   ]
  },
  {
   "cell_type": "code",
   "execution_count": 1,
   "metadata": {},
   "outputs": [],
   "source": [
    "import torch\n",
    "from torch.autograd import Variable\n",
    "from torch import nn\n",
    "from torch.nn import functional as F\n",
    "\n",
    "import dlc_practical_prologue as prologue"
   ]
  },
  {
   "cell_type": "markdown",
   "metadata": {},
   "source": [
    "### Load data "
   ]
  },
  {
   "cell_type": "code",
   "execution_count": 313,
   "metadata": {},
   "outputs": [],
   "source": [
    "N = 1000\n",
    "train_input, train_target_final, train_classes, test_input, test_target_final,test_classes = prologue.generate_pair_sets(N)"
   ]
  },
  {
   "cell_type": "code",
   "execution_count": 314,
   "metadata": {},
   "outputs": [
    {
     "data": {
      "image/png": "[encoded data removed]",
      "text/plain": [
       "<matplotlib.figure.Figure at 0x7f9e2880d978>"
      ]
     },
     "metadata": {},
     "output_type": "display_data"
    },
    {
     "data": {
      "image/png": "[encoded data removed]",
      "text/plain": [
       "<matplotlib.figure.Figure at 0x7f9e2866bc18>"
      ]
     },
     "metadata": {},
     "output_type": "display_data"
    }
   ],
   "source": [
    "# Show images\n",
    "import matplotlib.pyplot as plt\n",
    "img1 = train_input[150][0]\n",
    "plt.imshow(img1)\n",
    "plt.show()\n",
    "img2 = train_input[150][1]\n",
    "plt.imshow(img2)\n",
    "plt.show()"
   ]
  },
  {
   "cell_type": "markdown",
   "metadata": {},
   "source": [
    "### Define one-hot classes"
   ]
  },
  {
   "cell_type": "code",
   "execution_count": 315,
   "metadata": {},
   "outputs": [],
   "source": [
    "train_binary_classes = torch.full((2*N,10), 0)\n",
    "test_binary_classes = torch.full((2*N, 10), 0)"
   ]
  },
  {
   "cell_type": "code",
   "execution_count": 316,
   "metadata": {},
   "outputs": [
    {
     "data": {
      "text/plain": [
       "tensor([[1, 2],\n",
       "        [4, 7],\n",
       "        [2, 0],\n",
       "        ...,\n",
       "        [8, 9],\n",
       "        [4, 2],\n",
       "        [8, 0]])"
      ]
     },
     "execution_count": 316,
     "metadata": {},
     "output_type": "execute_result"
    }
   ],
   "source": [
    "test_classes"
   ]
  },
  {
   "cell_type": "code",
   "execution_count": 317,
   "metadata": {
    "scrolled": true
   },
   "outputs": [
    {
     "data": {
      "text/plain": [
       "tensor([[0., 1., 0.,  ..., 0., 0., 0.],\n",
       "        [0., 0., 1.,  ..., 0., 0., 0.],\n",
       "        [0., 0., 0.,  ..., 0., 0., 0.],\n",
       "        ...,\n",
       "        [0., 0., 1.,  ..., 0., 0., 0.],\n",
       "        [0., 0., 0.,  ..., 0., 1., 0.],\n",
       "        [1., 0., 0.,  ..., 0., 0., 0.]])"
      ]
     },
     "execution_count": 317,
     "metadata": {},
     "output_type": "execute_result"
    }
   ],
   "source": [
    "train_binary_classes.scatter_(1,train_classes.reshape((2*N, 1)), 1)\n",
    "test_binary_classes.scatter_(1,test_classes.reshape((2*N, 1)), 1)"
   ]
  },
  {
   "cell_type": "code",
   "execution_count": 318,
   "metadata": {},
   "outputs": [
    {
     "data": {
      "text/plain": [
       "tensor([[4, 3],\n",
       "        [8, 4],\n",
       "        [4, 4],\n",
       "        ...,\n",
       "        [0, 7],\n",
       "        [2, 3],\n",
       "        [1, 0]])"
      ]
     },
     "execution_count": 318,
     "metadata": {},
     "output_type": "execute_result"
    }
   ],
   "source": [
    "train_classes"
   ]
  },
  {
   "cell_type": "code",
   "execution_count": 319,
   "metadata": {},
   "outputs": [
    {
     "data": {
      "text/plain": [
       "tensor([[0., 0., 0.,  ..., 0., 0., 0.],\n",
       "        [0., 0., 0.,  ..., 0., 0., 0.],\n",
       "        [0., 0., 0.,  ..., 0., 1., 0.],\n",
       "        ...,\n",
       "        [0., 0., 0.,  ..., 0., 0., 0.],\n",
       "        [0., 1., 0.,  ..., 0., 0., 0.],\n",
       "        [1., 0., 0.,  ..., 0., 0., 0.]])"
      ]
     },
     "execution_count": 319,
     "metadata": {},
     "output_type": "execute_result"
    }
   ],
   "source": [
    "train_binary_classes"
   ]
  },
  {
   "cell_type": "code",
   "execution_count": 320,
   "metadata": {},
   "outputs": [],
   "source": [
    "train_input, train_target = Variable(train_input.reshape((2*N, 14*14))), Variable(train_binary_classes)\n",
    "test_input, test_target = Variable(test_input.reshape((2*N, 14*14))), Variable(test_binary_classes)"
   ]
  },
  {
   "cell_type": "markdown",
   "metadata": {},
   "source": [
    "### Standardize the data"
   ]
  },
  {
   "cell_type": "code",
   "execution_count": 321,
   "metadata": {},
   "outputs": [],
   "source": [
    "mu = train_input.mean(dim=0)\n",
    "std = train_input.std(dim=0)"
   ]
  },
  {
   "cell_type": "code",
   "execution_count": 322,
   "metadata": {},
   "outputs": [
    {
     "data": {
      "text/plain": [
       "tensor([[0., 0., 0.,  ..., 0., 0., 0.],\n",
       "        [0., 0., 0.,  ..., 0., 0., 0.],\n",
       "        [0., 0., 0.,  ..., 0., 0., 0.],\n",
       "        ...,\n",
       "        [0., 0., 0.,  ..., 0., 0., 0.],\n",
       "        [0., 0., 0.,  ..., 0., 0., 0.],\n",
       "        [0., 0., 0.,  ..., 0., 0., 0.]])"
      ]
     },
     "execution_count": 322,
     "metadata": {},
     "output_type": "execute_result"
    }
   ],
   "source": [
    "train_input.sub_(mu).div_(std+1)"
   ]
  },
  {
   "cell_type": "code",
   "execution_count": 323,
   "metadata": {},
   "outputs": [
    {
     "data": {
      "text/plain": [
       "tensor([[0., 0., 0.,  ..., 0., 0., 0.],\n",
       "        [0., 0., 0.,  ..., 0., 0., 0.],\n",
       "        [0., 0., 0.,  ..., 0., 0., 0.],\n",
       "        ...,\n",
       "        [0., 0., 0.,  ..., 0., 0., 0.],\n",
       "        [0., 0., 0.,  ..., 0., 0., 0.],\n",
       "        [0., 0., 0.,  ..., 0., 0., 0.]])"
      ]
     },
     "execution_count": 323,
     "metadata": {},
     "output_type": "execute_result"
    }
   ],
   "source": [
    "test_input.sub_(mu).div_(std+1)"
   ]
  },
  {
   "cell_type": "markdown",
   "metadata": {},
   "source": [
    "### Functions to train the model"
   ]
  },
  {
   "cell_type": "markdown",
   "metadata": {},
   "source": [
    "#### Computes error w.r.t classes "
   ]
  },
  {
   "cell_type": "code",
   "execution_count": 324,
   "metadata": {},
   "outputs": [],
   "source": [
    "def compute_nb_errors(output, target):\n",
    "    return (output.argmax(dim=1) != target.argmax(dim=1)).sum().item()"
   ]
  },
  {
   "cell_type": "markdown",
   "metadata": {},
   "source": [
    "#### Computes error w.r.t final labels"
   ]
  },
  {
   "cell_type": "code",
   "execution_count": 373,
   "metadata": {},
   "outputs": [],
   "source": [
    "def compute_errors_final(output, target, mini_batch_size):\n",
    "    output_classes = output.reshape((mini_batch_size//2, 2, 10)).argmax(dim=2)\n",
    "    target_classes = target.reshape((mini_batch_size//2, 2, 10)).argmax(dim=2)\n",
    "    final_output = (output_classes[:,0] <= output_classes[:,1])\n",
    "    final_target = (target_classes[:,0] <= target_classes[:,1])\n",
    "    return (final_output != final_target).sum().item()"
   ]
  },
  {
   "cell_type": "markdown",
   "metadata": {},
   "source": [
    "#### Trains the model"
   ]
  },
  {
   "cell_type": "code",
   "execution_count": 379,
   "metadata": {},
   "outputs": [],
   "source": [
    "def train_model(model, train_input, train_target, test_input,\n",
    "                test_target, mini_batch_size, n_epochs):\n",
    "    for e in range(0, n_epochs):\n",
    "        sum_loss = 0\n",
    "        sum_error = 0\n",
    "        sum_error_final = 0\n",
    "        # We do this with mini-batches\n",
    "        for b in range(0, train_input.size(0), mini_batch_size):\n",
    "            output = model(train_input.narrow(0, b, mini_batch_size))\n",
    "            train_target_batch = train_target.narrow(0, b, mini_batch_size)\n",
    "            loss = criterion(output, train_target_batch)\n",
    "            sum_error += compute_nb_errors(output, train_target_batch)\n",
    "            sum_error_final += compute_errors_final(output, train_target_batch, mini_batch_size)\n",
    "            sum_loss = sum_loss + loss.item()/mini_batch_size\n",
    "            optimizer.zero_grad()\n",
    "            loss.backward()\n",
    "            optimizer.step()\n",
    "        output_test = model(test_input)\n",
    "        test_error = compute_nb_errors(output_test, test_target)\n",
    "        test_error_final = compute_errors_final(output_test, test_target, 2*N)\n",
    "        print('Epoch: {}, Loss: {}, Training error: {}%, Final training error: {}%, Test error: {}%, Final test error: {}%'.format(e, sum_loss, 50*sum_error/N, 100*sum_error_final/N, 50*test_error/N, 100*test_error_final/N))"
   ]
  },
  {
   "cell_type": "markdown",
   "metadata": {},
   "source": [
    "### First network: MLP"
   ]
  },
  {
   "cell_type": "code",
   "execution_count": 380,
   "metadata": {
    "scrolled": true
   },
   "outputs": [],
   "source": [
    "d = train_input.shape[1]\n",
    "h1 = 50\n",
    "h2 = 50\n",
    "d_out = train_target.shape[1]\n",
    "VanillaNN = nn.Sequential(\n",
    "      nn.Linear(d, h1, bias=True),\n",
    "      nn.ReLU(),\n",
    "      nn.Linear(h1, h2, bias=True),\n",
    "      nn.ReLU(),\n",
    "      nn.Linear(h2, d_out),\n",
    "      nn.ReLU(),\n",
    "      )"
   ]
  },
  {
   "cell_type": "code",
   "execution_count": 381,
   "metadata": {},
   "outputs": [],
   "source": [
    "model, criterion,  = VanillaNN, nn.MSELoss()\n",
    "eta, mini_batch_size = 1e-3, 10\n",
    "optimizer = torch.optim.Adam(model.parameters(), lr=eta)\n",
    "n_epochs = 50"
   ]
  },
  {
   "cell_type": "code",
   "execution_count": 382,
   "metadata": {
    "scrolled": true
   },
   "outputs": [
    {
     "name": "stdout",
     "output_type": "stream",
     "text": [
      "Epoch: 0, Loss: 1.1728485787287355, Training error: 44.15%, Final training error: 32.4%, Test error: 23.5%, Final test error: 16.9%\n",
      "Epoch: 1, Loss: 0.5993293129373343, Training error: 20.4%, Final training error: 17.8%, Test error: 19.85%, Final test error: 15.6%\n",
      "Epoch: 2, Loss: 0.48938944779802107, Training error: 16.9%, Final training error: 17.7%, Test error: 18.75%, Final test error: 16.6%\n",
      "Epoch: 3, Loss: 0.4338964767521247, Training error: 15.4%, Final training error: 17.7%, Test error: 18.5%, Final test error: 17.4%\n",
      "Epoch: 4, Loss: 0.3979239367530681, Training error: 14.7%, Final training error: 18.0%, Test error: 18.25%, Final test error: 17.9%\n",
      "Epoch: 5, Loss: 0.3722837530891409, Training error: 14.15%, Final training error: 18.2%, Test error: 18.35%, Final test error: 18.2%\n",
      "Epoch: 6, Loss: 0.35315296959015546, Training error: 13.9%, Final training error: 18.2%, Test error: 18.1%, Final test error: 18.8%\n",
      "Epoch: 7, Loss: 0.33779655590769836, Training error: 13.55%, Final training error: 18.1%, Test error: 18.25%, Final test error: 19.1%\n",
      "Epoch: 8, Loss: 0.3235301378124858, Training error: 13.25%, Final training error: 18.3%, Test error: 18.0%, Final test error: 19.4%\n",
      "Epoch: 9, Loss: 0.3123220101173501, Training error: 13.1%, Final training error: 17.8%, Test error: 18.05%, Final test error: 19.9%\n",
      "Epoch: 10, Loss: 0.303520329031744, Training error: 12.95%, Final training error: 18.4%, Test error: 18.05%, Final test error: 19.6%\n",
      "Epoch: 11, Loss: 0.29591792239225473, Training error: 12.95%, Final training error: 18.8%, Test error: 18.25%, Final test error: 19.1%\n",
      "Epoch: 12, Loss: 0.2910230581444921, Training error: 13.05%, Final training error: 18.7%, Test error: 18.05%, Final test error: 19.6%\n",
      "Epoch: 13, Loss: 0.28663365183456363, Training error: 12.85%, Final training error: 19.1%, Test error: 18.1%, Final test error: 19.2%\n",
      "Epoch: 14, Loss: 0.28350015046889887, Training error: 12.8%, Final training error: 19.1%, Test error: 17.95%, Final test error: 19.2%\n",
      "Epoch: 15, Loss: 0.28289037118374843, Training error: 12.75%, Final training error: 18.7%, Test error: 18.1%, Final test error: 19.8%\n",
      "Epoch: 16, Loss: 0.27995421445957613, Training error: 12.85%, Final training error: 19.3%, Test error: 18.15%, Final test error: 19.8%\n",
      "Epoch: 17, Loss: 0.2772610085754422, Training error: 12.8%, Final training error: 19.1%, Test error: 17.75%, Final test error: 20.6%\n",
      "Epoch: 18, Loss: 0.2739630329364444, Training error: 12.65%, Final training error: 19.0%, Test error: 17.8%, Final test error: 20.7%\n",
      "Epoch: 19, Loss: 0.2751819645447541, Training error: 12.7%, Final training error: 19.8%, Test error: 18.05%, Final test error: 21.1%\n",
      "Epoch: 20, Loss: 0.2752907143018091, Training error: 12.7%, Final training error: 19.3%, Test error: 18.0%, Final test error: 20.3%\n",
      "Epoch: 21, Loss: 0.2753564481434295, Training error: 12.75%, Final training error: 19.4%, Test error: 17.9%, Final test error: 20.6%\n",
      "Epoch: 22, Loss: 0.27285237142932595, Training error: 12.6%, Final training error: 19.0%, Test error: 17.7%, Final test error: 20.7%\n",
      "Epoch: 23, Loss: 0.26984912715415693, Training error: 12.55%, Final training error: 19.2%, Test error: 17.6%, Final test error: 20.1%\n",
      "Epoch: 24, Loss: 0.26894367673812675, Training error: 12.6%, Final training error: 19.2%, Test error: 18.45%, Final test error: 20.9%\n",
      "Epoch: 25, Loss: 0.27183734066056786, Training error: 12.65%, Final training error: 19.5%, Test error: 17.75%, Final test error: 20.9%\n",
      "Epoch: 26, Loss: 0.2712080297416833, Training error: 12.65%, Final training error: 19.6%, Test error: 17.8%, Final test error: 20.7%\n",
      "Epoch: 27, Loss: 0.271682694244373, Training error: 12.65%, Final training error: 19.3%, Test error: 17.8%, Final test error: 20.7%\n",
      "Epoch: 28, Loss: 0.27494389810890413, Training error: 12.55%, Final training error: 19.0%, Test error: 18.15%, Final test error: 20.3%\n",
      "Epoch: 29, Loss: 0.2752247587195597, Training error: 12.55%, Final training error: 19.5%, Test error: 17.5%, Final test error: 20.6%\n",
      "Epoch: 30, Loss: 0.27213262242439656, Training error: 12.6%, Final training error: 18.8%, Test error: 17.85%, Final test error: 20.7%\n",
      "Epoch: 31, Loss: 0.2679292410277412, Training error: 12.45%, Final training error: 19.3%, Test error: 17.85%, Final test error: 20.8%\n",
      "Epoch: 32, Loss: 0.27223458918597326, Training error: 12.6%, Final training error: 19.0%, Test error: 18.2%, Final test error: 21.2%\n",
      "Epoch: 33, Loss: 0.2661269832300604, Training error: 12.55%, Final training error: 19.6%, Test error: 17.7%, Final test error: 20.2%\n",
      "Epoch: 34, Loss: 0.26381822968396595, Training error: 12.5%, Final training error: 20.0%, Test error: 17.4%, Final test error: 20.3%\n",
      "Epoch: 35, Loss: 0.2620223140082089, Training error: 12.5%, Final training error: 19.3%, Test error: 17.6%, Final test error: 20.5%\n",
      "Epoch: 36, Loss: 0.2633410854512474, Training error: 12.4%, Final training error: 19.4%, Test error: 17.35%, Final test error: 20.6%\n",
      "Epoch: 37, Loss: 0.2606831948607577, Training error: 12.45%, Final training error: 19.8%, Test error: 17.75%, Final test error: 21.6%\n",
      "Epoch: 38, Loss: 0.25991590426056055, Training error: 12.5%, Final training error: 20.1%, Test error: 17.35%, Final test error: 20.6%\n",
      "Epoch: 39, Loss: 0.2595428436812654, Training error: 12.45%, Final training error: 19.5%, Test error: 17.85%, Final test error: 20.1%\n",
      "Epoch: 40, Loss: 0.25998363669968966, Training error: 12.5%, Final training error: 19.5%, Test error: 17.8%, Final test error: 20.6%\n",
      "Epoch: 41, Loss: 0.2604766278644093, Training error: 12.45%, Final training error: 19.8%, Test error: 17.6%, Final test error: 20.9%\n",
      "Epoch: 42, Loss: 0.2625704603062332, Training error: 12.45%, Final training error: 19.4%, Test error: 17.85%, Final test error: 20.8%\n",
      "Epoch: 43, Loss: 0.2673568237383735, Training error: 12.4%, Final training error: 19.1%, Test error: 18.3%, Final test error: 21.7%\n",
      "Epoch: 44, Loss: 0.27103561214462396, Training error: 12.7%, Final training error: 19.9%, Test error: 17.85%, Final test error: 21.5%\n",
      "Epoch: 45, Loss: 0.27635151021968346, Training error: 12.55%, Final training error: 18.9%, Test error: 18.25%, Final test error: 21.5%\n",
      "Epoch: 46, Loss: 0.2679406750001363, Training error: 12.3%, Final training error: 19.3%, Test error: 17.55%, Final test error: 21.0%\n",
      "Epoch: 47, Loss: 0.26214402511250234, Training error: 12.35%, Final training error: 19.3%, Test error: 18.2%, Final test error: 20.9%\n",
      "Epoch: 48, Loss: 0.2609604464145378, Training error: 12.35%, Final training error: 19.9%, Test error: 17.0%, Final test error: 20.3%\n",
      "Epoch: 49, Loss: 0.2581253445466246, Training error: 12.4%, Final training error: 20.0%, Test error: 17.65%, Final test error: 21.2%\n"
     ]
    }
   ],
   "source": [
    "train_model(model, train_input, train_target, test_input,\n",
    "                test_target, mini_batch_size, n_epochs)"
   ]
  },
  {
   "cell_type": "markdown",
   "metadata": {},
   "source": [
    "### Second network: modified LeNet"
   ]
  },
  {
   "cell_type": "code",
   "execution_count": 383,
   "metadata": {},
   "outputs": [],
   "source": [
    "class Net(nn.Module):\n",
    "    def __init__(self):\n",
    "        super(Net, self).__init__()\n",
    "        self.conv1 = nn.Conv2d(1, 8, kernel_size=3)\n",
    "        self.conv2 = nn.Conv2d(8, 16, kernel_size=3)\n",
    "        self.fc1 = nn.Linear(64, 20)\n",
    "        self.fc2 = nn.Linear(20, 10)\n",
    "\n",
    "    def forward(self, x):\n",
    "        x = F.relu(F.max_pool2d(self.conv1(x), kernel_size=2, stride=2))\n",
    "        x = F.relu(F.max_pool2d(self.conv2(x), kernel_size=2))\n",
    "        x = F.relu(self.fc1(x.view(-1, 64)))\n",
    "        x = self.fc2(x)\n",
    "        return x"
   ]
  },
  {
   "cell_type": "code",
   "execution_count": 384,
   "metadata": {},
   "outputs": [],
   "source": [
    "train_input, train_target = Variable(train_input.reshape((2*N,1, 14, 14))), Variable(train_binary_classes)\n",
    "test_input, test_target = Variable(test_input.reshape((2*N,1, 14, 14))), Variable(test_binary_classes)\n",
    "model, criterion = Net(), nn.MSELoss()\n",
    "eta, mini_batch_size = 1e-3, 10\n",
    "optimizer = torch.optim.Adam(model.parameters(), lr=eta)"
   ]
  },
  {
   "cell_type": "code",
   "execution_count": 386,
   "metadata": {
    "scrolled": true
   },
   "outputs": [
    {
     "name": "stdout",
     "output_type": "stream",
     "text": [
      "Epoch: 0, Loss: 1.5768529273569583, Training error: 57.75%, Final training error: 31.1%, Test error: 34.85%, Final test error: 22.1%\n",
      "Epoch: 1, Loss: 1.0585370991379022, Training error: 26.85%, Final training error: 18.9%, Test error: 21.55%, Final test error: 15.0%\n",
      "Epoch: 2, Loss: 0.8503349618986253, Training error: 16.8%, Final training error: 12.4%, Test error: 13.6%, Final test error: 9.9%\n",
      "Epoch: 3, Loss: 0.7174142535775898, Training error: 11.35%, Final training error: 9.0%, Test error: 11.1%, Final test error: 8.2%\n",
      "Epoch: 4, Loss: 0.6204348554834721, Training error: 8.4%, Final training error: 7.1%, Test error: 8.95%, Final test error: 7.0%\n",
      "Epoch: 5, Loss: 0.5518281117081643, Training error: 7.2%, Final training error: 5.4%, Test error: 7.55%, Final test error: 6.4%\n",
      "Epoch: 6, Loss: 0.5009293010458349, Training error: 6.2%, Final training error: 4.6%, Test error: 7.0%, Final test error: 5.8%\n",
      "Epoch: 7, Loss: 0.46081911269575376, Training error: 5.3%, Final training error: 3.9%, Test error: 6.35%, Final test error: 5.1%\n",
      "Epoch: 8, Loss: 0.4279384508728978, Training error: 4.9%, Final training error: 3.6%, Test error: 6.05%, Final test error: 4.9%\n",
      "Epoch: 9, Loss: 0.39923193948343416, Training error: 4.65%, Final training error: 3.3%, Test error: 5.75%, Final test error: 5.0%\n",
      "Epoch: 10, Loss: 0.37478113281540576, Training error: 4.45%, Final training error: 3.3%, Test error: 5.65%, Final test error: 4.9%\n",
      "Epoch: 11, Loss: 0.35470780301839117, Training error: 4.2%, Final training error: 3.3%, Test error: 5.3%, Final test error: 4.7%\n",
      "Epoch: 12, Loss: 0.3370549653656781, Training error: 3.8%, Final training error: 3.1%, Test error: 5.4%, Final test error: 4.7%\n",
      "Epoch: 13, Loss: 0.321059386478737, Training error: 3.7%, Final training error: 3.2%, Test error: 5.2%, Final test error: 4.4%\n",
      "Epoch: 14, Loss: 0.3061112064402549, Training error: 3.35%, Final training error: 3.0%, Test error: 5.05%, Final test error: 4.2%\n",
      "Epoch: 15, Loss: 0.2940471516456456, Training error: 3.2%, Final training error: 2.9%, Test error: 5.0%, Final test error: 4.3%\n",
      "Epoch: 16, Loss: 0.28307967064902184, Training error: 3.05%, Final training error: 2.6%, Test error: 5.05%, Final test error: 4.5%\n",
      "Epoch: 17, Loss: 0.27337016309611495, Training error: 2.75%, Final training error: 2.4%, Test error: 4.8%, Final test error: 4.2%\n",
      "Epoch: 18, Loss: 0.26379843840841205, Training error: 2.85%, Final training error: 2.6%, Test error: 4.9%, Final test error: 4.1%\n",
      "Epoch: 19, Loss: 0.2550741253886374, Training error: 2.55%, Final training error: 2.4%, Test error: 4.8%, Final test error: 4.1%\n",
      "Epoch: 20, Loss: 0.24680991889908915, Training error: 2.55%, Final training error: 2.3%, Test error: 5.0%, Final test error: 4.1%\n",
      "Epoch: 21, Loss: 0.23868996503297235, Training error: 2.45%, Final training error: 2.2%, Test error: 4.95%, Final test error: 4.3%\n",
      "Epoch: 22, Loss: 0.23087021971587102, Training error: 2.25%, Final training error: 1.9%, Test error: 4.85%, Final test error: 4.4%\n",
      "Epoch: 23, Loss: 0.22336091061588378, Training error: 2.15%, Final training error: 2.0%, Test error: 4.75%, Final test error: 4.4%\n",
      "Epoch: 24, Loss: 0.2175899469759316, Training error: 2.1%, Final training error: 1.9%, Test error: 4.65%, Final test error: 4.4%\n",
      "Epoch: 25, Loss: 0.21119960874784724, Training error: 1.9%, Final training error: 1.7%, Test error: 4.65%, Final test error: 4.3%\n",
      "Epoch: 26, Loss: 0.20435828247573223, Training error: 1.9%, Final training error: 1.6%, Test error: 4.85%, Final test error: 4.3%\n",
      "Epoch: 27, Loss: 0.19976895698346195, Training error: 1.95%, Final training error: 1.6%, Test error: 4.7%, Final test error: 4.2%\n",
      "Epoch: 28, Loss: 0.1943016969366, Training error: 1.85%, Final training error: 1.5%, Test error: 4.8%, Final test error: 4.1%\n",
      "Epoch: 29, Loss: 0.18968897671438759, Training error: 1.8%, Final training error: 1.3%, Test error: 4.85%, Final test error: 4.2%\n",
      "Epoch: 30, Loss: 0.18616879046894608, Training error: 1.65%, Final training error: 1.1%, Test error: 4.75%, Final test error: 4.1%\n",
      "Epoch: 31, Loss: 0.1824838852742688, Training error: 1.55%, Final training error: 1.2%, Test error: 4.85%, Final test error: 4.2%\n",
      "Epoch: 32, Loss: 0.1794894999591633, Training error: 1.45%, Final training error: 1.1%, Test error: 4.9%, Final test error: 4.3%\n",
      "Epoch: 33, Loss: 0.17619088650681092, Training error: 1.4%, Final training error: 1.0%, Test error: 4.8%, Final test error: 4.2%\n",
      "Epoch: 34, Loss: 0.1734521645121276, Training error: 1.3%, Final training error: 0.9%, Test error: 4.9%, Final test error: 4.2%\n",
      "Epoch: 35, Loss: 0.17067744163796286, Training error: 1.3%, Final training error: 0.9%, Test error: 4.95%, Final test error: 4.2%\n",
      "Epoch: 36, Loss: 0.16784980678930878, Training error: 1.2%, Final training error: 0.9%, Test error: 4.9%, Final test error: 4.2%\n",
      "Epoch: 37, Loss: 0.1649016583338379, Training error: 1.1%, Final training error: 0.8%, Test error: 4.9%, Final test error: 4.0%\n",
      "Epoch: 38, Loss: 0.16234613019041716, Training error: 1.05%, Final training error: 0.9%, Test error: 4.9%, Final test error: 4.1%\n",
      "Epoch: 39, Loss: 0.15973356722388413, Training error: 0.8%, Final training error: 0.6%, Test error: 4.95%, Final test error: 3.9%\n",
      "Epoch: 40, Loss: 0.15685076750814905, Training error: 0.8%, Final training error: 0.5%, Test error: 5.1%, Final test error: 4.0%\n",
      "Epoch: 41, Loss: 0.15416816051583732, Training error: 0.75%, Final training error: 0.5%, Test error: 4.95%, Final test error: 3.8%\n",
      "Epoch: 42, Loss: 0.15022832513786852, Training error: 0.7%, Final training error: 0.3%, Test error: 4.9%, Final test error: 3.9%\n",
      "Epoch: 43, Loss: 0.14726365711539996, Training error: 0.7%, Final training error: 0.3%, Test error: 4.95%, Final test error: 3.8%\n",
      "Epoch: 44, Loss: 0.14482601440977308, Training error: 0.7%, Final training error: 0.2%, Test error: 4.9%, Final test error: 3.7%\n",
      "Epoch: 45, Loss: 0.14196560031268743, Training error: 0.5%, Final training error: 0.1%, Test error: 4.75%, Final test error: 3.8%\n",
      "Epoch: 46, Loss: 0.13957285264041275, Training error: 0.5%, Final training error: 0.1%, Test error: 4.85%, Final test error: 3.8%\n",
      "Epoch: 47, Loss: 0.13743649732787158, Training error: 0.5%, Final training error: 0.1%, Test error: 4.75%, Final test error: 3.6%\n",
      "Epoch: 48, Loss: 0.13564341906458147, Training error: 0.5%, Final training error: 0.1%, Test error: 4.7%, Final test error: 3.7%\n",
      "Epoch: 49, Loss: 0.13412935931701214, Training error: 0.45%, Final training error: 0.1%, Test error: 4.65%, Final test error: 3.7%\n"
     ]
    }
   ],
   "source": [
    "n_epochs = 50\n",
    "train_model(model, train_input, train_target, test_input, test_target, mini_batch_size, n_epochs)"
   ]
  }
 ],
 "metadata": {
  "kernelspec": {
   "display_name": "Python 3",
   "language": "python",
   "name": "python3"
  },
  "language_info": {
   "codemirror_mode": {
    "name": "ipython",
    "version": 3
   },
   "file_extension": ".py",
   "mimetype": "text/x-python",
   "name": "python",
   "nbconvert_exporter": "python",
   "pygments_lexer": "ipython3",
   "version": "3.6.4"
  }
 },
 "nbformat": 4,
 "nbformat_minor": 2
}
