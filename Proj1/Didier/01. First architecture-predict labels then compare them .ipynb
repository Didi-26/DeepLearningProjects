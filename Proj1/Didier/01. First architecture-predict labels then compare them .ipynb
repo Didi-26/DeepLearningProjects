{
 "cells": [
  {
   "cell_type": "markdown",
   "metadata": {},
   "source": [
    "### First architecture: \n",
    "As a first architecture, we reshape the data in order to only learn the classes of each image. The comparison of labels is done as a post-processing step. "
   ]
  },
  {
   "cell_type": "code",
   "execution_count": 1,
   "metadata": {},
   "outputs": [],
   "source": [
    "import torch\n",
    "from torch.autograd import Variable\n",
    "from torch import nn\n",
    "from torch.nn import functional as F\n",
    "import matplotlib.pyplot as plt\n",
    "\n",
    "import dlc_practical_prologue as prologue\n",
    "%matplotlib inline"
   ]
  },
  {
   "cell_type": "markdown",
   "metadata": {},
   "source": [
    "### Load data "
   ]
  },
  {
   "cell_type": "code",
   "execution_count": 2,
   "metadata": {},
   "outputs": [],
   "source": [
    "N = 1000\n",
    "train_input, train_target_final, train_classes, test_input, test_target_final,test_classes = prologue.generate_pair_sets(N)"
   ]
  },
  {
   "cell_type": "code",
   "execution_count": null,
   "metadata": {},
   "outputs": [],
   "source": [
    "# Show images\n",
    "img1 = train_input[5][0]\n",
    "plt.imshow(img1)\n",
    "plt.show()\n",
    "img2 = train_input[5][1]\n",
    "plt.imshow(img2)\n",
    "plt.show()"
   ]
  },
  {
   "cell_type": "markdown",
   "metadata": {},
   "source": [
    "### Define one-hot classes"
   ]
  },
  {
   "cell_type": "code",
   "execution_count": null,
   "metadata": {},
   "outputs": [],
   "source": [
    "train_binary_classes = torch.full((2*N,10), 0)\n",
    "test_binary_classes = torch.full((2*N, 10), 0)"
   ]
  },
  {
   "cell_type": "code",
   "execution_count": null,
   "metadata": {},
   "outputs": [],
   "source": [
    "test_classes"
   ]
  },
  {
   "cell_type": "code",
   "execution_count": null,
   "metadata": {
    "scrolled": true
   },
   "outputs": [],
   "source": [
    "train_binary_classes.scatter_(1,train_classes.reshape((2*N, 1)), 1)\n",
    "test_binary_classes.scatter_(1,test_classes.reshape((2*N, 1)), 1)"
   ]
  },
  {
   "cell_type": "code",
   "execution_count": null,
   "metadata": {},
   "outputs": [],
   "source": [
    "train_classes"
   ]
  },
  {
   "cell_type": "code",
   "execution_count": null,
   "metadata": {},
   "outputs": [],
   "source": [
    "train_binary_classes"
   ]
  },
  {
   "cell_type": "code",
   "execution_count": null,
   "metadata": {},
   "outputs": [],
   "source": [
    "train_input, train_target = Variable(train_input.reshape((2*N, 14*14))), Variable(train_binary_classes)\n",
    "test_input, test_target = Variable(test_input.reshape((2*N, 14*14))), Variable(test_binary_classes)"
   ]
  },
  {
   "cell_type": "markdown",
   "metadata": {},
   "source": [
    "### Standardize the data"
   ]
  },
  {
   "cell_type": "code",
   "execution_count": null,
   "metadata": {},
   "outputs": [],
   "source": [
    "mu = train_input.mean(dim=0)\n",
    "std = train_input.std(dim=0)"
   ]
  },
  {
   "cell_type": "code",
   "execution_count": null,
   "metadata": {},
   "outputs": [],
   "source": [
    "train_input.sub_(mu).div_(std+1)"
   ]
  },
  {
   "cell_type": "code",
   "execution_count": null,
   "metadata": {},
   "outputs": [],
   "source": [
    "test_input.sub_(mu).div_(std+1)"
   ]
  },
  {
   "cell_type": "markdown",
   "metadata": {},
   "source": [
    "### Functions to train the model"
   ]
  },
  {
   "cell_type": "markdown",
   "metadata": {},
   "source": [
    "#### Computes error w.r.t classes "
   ]
  },
  {
   "cell_type": "code",
   "execution_count": 15,
   "metadata": {},
   "outputs": [],
   "source": [
    "def compute_nb_errors(output, target):\n",
    "    #return (output.argmax(dim=1) != target.argmax(dim=1)).sum().item()\n",
    "    return (torch.round(output)!=target).sum().item()"
   ]
  },
  {
   "cell_type": "markdown",
   "metadata": {},
   "source": [
    "#### Computes error w.r.t final labels"
   ]
  },
  {
   "cell_type": "code",
   "execution_count": null,
   "metadata": {},
   "outputs": [],
   "source": [
    "def compute_errors_final(output, target, mini_batch_size):\n",
    "    output_classes = output.reshape((mini_batch_size//2, 2, 10)).argmax(dim=2)\n",
    "    target_classes = target.reshape((mini_batch_size//2, 2, 10)).argmax(dim=2)\n",
    "    final_output = (output_classes[:,0] <= output_classes[:,1])\n",
    "    final_target = (target_classes[:,0] <= target_classes[:,1])\n",
    "    return (final_output != final_target).sum().item()"
   ]
  },
  {
   "cell_type": "markdown",
   "metadata": {},
   "source": [
    "#### Trains the model"
   ]
  },
  {
   "cell_type": "code",
   "execution_count": 26,
   "metadata": {},
   "outputs": [],
   "source": [
    "def train_model(model, train_input, train_target, test_input,\n",
    "                test_target, mini_batch_size, n_epochs):\n",
    "    error_train_total = []\n",
    "    error_test_total = []\n",
    "    for e in range(0, n_epochs):\n",
    "        sum_loss = 0\n",
    "        sum_error = 0\n",
    "        sum_error_final = 0\n",
    "        \n",
    "        # We do this with mini-batches\n",
    "        for b in range(0, train_input.size(0), mini_batch_size):\n",
    "            output = model(train_input.narrow(0, b, mini_batch_size))\n",
    "            train_target_batch = train_target.narrow(0, b, mini_batch_size)\n",
    "            \n",
    "            loss = criterion(output, train_target_batch)\n",
    "            sum_error += compute_nb_errors(output, train_target_batch)\n",
    "            #sum_error_final += compute_errors_final(output, train_target_batch, mini_batch_size)\n",
    "            sum_loss = sum_loss + loss.item()/mini_batch_size\n",
    "            optimizer.zero_grad()\n",
    "            loss.backward()\n",
    "            optimizer.step()\n",
    "        output_test = model(test_input)\n",
    "        test_error = compute_nb_errors(output_test, test_target)\n",
    "        error_test_total.append((1/N)*100*test_error/(N/mini_batch_size))\n",
    "        error_train_total.append((1/N)*100*sum_error/(N/mini_batch_size))\n",
    "        #test_error_final = compute_errors_final(output_test, test_target, 2*N)\n",
    "        #print('Epoch: {}, Loss: {}, Training error: {}%, Final training error: {}%, Test error: {}%, Final test error: {}%'.format(e, sum_loss, 50*sum_error/N, 100*sum_error_final/N, 50*test_error/N, 100*test_error_final/N))\n",
    "        print('Epoch: {}, Loss: {}, Training error: {}%,, Test error: {}%'.format(e, sum_loss, (1/N)*100*sum_error/(N/mini_batch_size), (1/N)*100*test_error/(N/mini_batch_size)))\n",
    "    return error_train_total,error_test_total"
   ]
  },
  {
   "cell_type": "markdown",
   "metadata": {},
   "source": [
    "### First network: MLP"
   ]
  },
  {
   "cell_type": "code",
   "execution_count": null,
   "metadata": {
    "scrolled": true
   },
   "outputs": [],
   "source": [
    "d = train_input.shape[1]\n",
    "h1 = 50\n",
    "h2 = 50\n",
    "d_out = train_target.shape[1]\n",
    "VanillaNN = nn.Sequential(\n",
    "      nn.Linear(d, h1, bias=True),\n",
    "      nn.ReLU(),\n",
    "      nn.Linear(h1, h2, bias=True),\n",
    "      nn.ReLU(),\n",
    "      nn.Linear(h2, d_out),\n",
    "      nn.ReLU(),\n",
    "      )"
   ]
  },
  {
   "cell_type": "code",
   "execution_count": null,
   "metadata": {},
   "outputs": [],
   "source": [
    "model, criterion,  = VanillaNN, nn.MSELoss()\n",
    "eta, mini_batch_size = 1e-3, 10\n",
    "optimizer = torch.optim.Adam(model.parameters(), lr=eta)\n",
    "n_epochs = 50"
   ]
  },
  {
   "cell_type": "code",
   "execution_count": null,
   "metadata": {
    "scrolled": true
   },
   "outputs": [],
   "source": [
    "train_model(model, train_input, train_target, test_input,\n",
    "                test_target, mini_batch_size, n_epochs)"
   ]
  },
  {
   "cell_type": "markdown",
   "metadata": {},
   "source": [
    "### Second network: modified LeNet"
   ]
  },
  {
   "cell_type": "code",
   "execution_count": null,
   "metadata": {},
   "outputs": [],
   "source": [
    "class Net(nn.Module):\n",
    "    def __init__(self):\n",
    "        super(Net, self).__init__()\n",
    "        self.conv1 = nn.Conv2d(1, 8, kernel_size=3)\n",
    "        self.conv2 = nn.Conv2d(8, 16, kernel_size=3)\n",
    "        self.fc1 = nn.Linear(64, 20)\n",
    "        self.fc2 = nn.Linear(20, 10)\n",
    "\n",
    "    def forward(self, x):\n",
    "        x = F.relu(F.max_pool2d(self.conv1(x), kernel_size=2, stride=2))\n",
    "        x = F.relu(F.max_pool2d(self.conv2(x), kernel_size=2))\n",
    "        x = F.relu(self.fc1(x.view(-1, 64)))\n",
    "        x = self.fc2(x)\n",
    "        return x"
   ]
  },
  {
   "cell_type": "code",
   "execution_count": null,
   "metadata": {},
   "outputs": [],
   "source": [
    "train_input, train_target = Variable(train_input.reshape((2*N,1, 14, 14))), Variable(train_binary_classes)\n",
    "test_input, test_target = Variable(test_input.reshape((2*N,1, 14, 14))), Variable(test_binary_classes)\n",
    "model, criterion = Net(), nn.MSELoss()\n",
    "eta, mini_batch_size = 1e-3, 10\n",
    "optimizer = torch.optim.Adam(model.parameters(), lr=eta)"
   ]
  },
  {
   "cell_type": "code",
   "execution_count": null,
   "metadata": {
    "scrolled": true
   },
   "outputs": [],
   "source": [
    "n_epochs = 50\n",
    "train_model(model, train_input, train_target, test_input, test_target, mini_batch_size, n_epochs)"
   ]
  },
  {
   "cell_type": "code",
   "execution_count": 21,
   "metadata": {},
   "outputs": [],
   "source": [
    "class Comparaison(nn.Module):\n",
    "    def __init__(self):\n",
    "        super(Comparaison,self).__init__()\n",
    "        self.conv1 = nn.Conv2d(2,128,kernel_size=2)\n",
    "        self.conv2 = nn.Conv2d(128,1,kernel_size=3)\n",
    "    def forward(self, x):\n",
    "        x = self.conv1(x)\n",
    "        x = F.relu(F.max_pool2d(x,kernel_size=4))\n",
    "        x = self.conv2(x)\n",
    "        x = x.flatten()\n",
    "        return x"
   ]
  },
  {
   "cell_type": "code",
   "execution_count": 6,
   "metadata": {},
   "outputs": [],
   "source": []
  },
  {
   "cell_type": "code",
   "execution_count": 7,
   "metadata": {},
   "outputs": [],
   "source": [
    "train_input, train_target_final, test_input, test_target_final = train_input.float(), train_target_final.float(), test_input.float(), test_target_final.float()"
   ]
  },
  {
   "cell_type": "code",
   "execution_count": 27,
   "metadata": {},
   "outputs": [
    {
     "name": "stdout",
     "output_type": "stream",
     "text": [
      "Epoch: 0, Loss: 2762.131903076174, Training error: 0.9630000000000001%,, Test error: 0.9490000000000001%\n",
      "Epoch: 1, Loss: 684.0128149032589, Training error: 0.929%,, Test error: 0.9410000000000001%\n",
      "Epoch: 2, Loss: 433.5933492660522, Training error: 0.9480000000000001%,, Test error: 0.919%\n",
      "Epoch: 3, Loss: 327.77861423492436, Training error: 0.9330000000000002%,, Test error: 0.9180000000000001%\n",
      "Epoch: 4, Loss: 253.03190665245057, Training error: 0.929%,, Test error: 0.919%\n",
      "Epoch: 5, Loss: 204.73061232566837, Training error: 0.9230000000000002%,, Test error: 0.905%\n",
      "Epoch: 6, Loss: 167.01783587932582, Training error: 0.9060000000000001%,, Test error: 0.914%\n",
      "Epoch: 7, Loss: 142.01707776784897, Training error: 0.8910000000000001%,, Test error: 0.912%\n",
      "Epoch: 8, Loss: 124.2047566413879, Training error: 0.8930000000000001%,, Test error: 0.9010000000000001%\n",
      "Epoch: 9, Loss: 111.73340884447103, Training error: 0.892%,, Test error: 0.895%\n",
      "Epoch: 10, Loss: 102.51706758737564, Training error: 0.887%,, Test error: 0.904%\n",
      "Epoch: 11, Loss: 96.93883754014972, Training error: 0.8780000000000001%,, Test error: 0.902%\n",
      "Epoch: 12, Loss: 96.04529848098754, Training error: 0.884%,, Test error: 0.9080000000000001%\n",
      "Epoch: 13, Loss: 105.89824123382564, Training error: 0.884%,, Test error: 0.915%\n",
      "Epoch: 14, Loss: 140.49676382541656, Training error: 0.8980000000000001%,, Test error: 0.919%\n",
      "Epoch: 15, Loss: 257.50648469924926, Training error: 0.937%,, Test error: 0.9180000000000001%\n",
      "Epoch: 16, Loss: 1746.4877557992936, Training error: 0.9570000000000001%,, Test error: 0.9880000000000001%\n",
      "Epoch: 17, Loss: 716.3520740985869, Training error: 0.9580000000000001%,, Test error: 0.96%\n",
      "Epoch: 18, Loss: 590.2944301605227, Training error: 0.9440000000000001%,, Test error: 0.9780000000000001%\n",
      "Epoch: 19, Loss: 525.6987485885618, Training error: 0.955%,, Test error: 0.911%\n",
      "Epoch: 20, Loss: 752.6153102397917, Training error: 0.9540000000000001%,, Test error: 0.98%\n",
      "Epoch: 21, Loss: 599.8730357170107, Training error: 0.9480000000000001%,, Test error: 0.9840000000000001%\n",
      "Epoch: 22, Loss: 267.17856895923615, Training error: 0.9470000000000001%,, Test error: 0.997%\n",
      "Epoch: 23, Loss: 192.112298130989, Training error: 0.926%,, Test error: 0.9890000000000001%\n",
      "Epoch: 24, Loss: 152.0746598124504, Training error: 0.915%,, Test error: 0.9590000000000001%\n",
      "Epoch: 25, Loss: 141.46206604242326, Training error: 0.8810000000000001%,, Test error: 0.9280000000000002%\n",
      "Epoch: 26, Loss: 150.29229953289033, Training error: 0.902%,, Test error: 0.9080000000000001%\n",
      "Epoch: 27, Loss: 172.22604353427883, Training error: 0.914%,, Test error: 0.875%\n",
      "Epoch: 28, Loss: 211.24567480087285, Training error: 0.93%,, Test error: 0.909%\n",
      "Epoch: 29, Loss: 301.16588075160973, Training error: 0.9490000000000001%,, Test error: 0.9670000000000001%\n",
      "Epoch: 30, Loss: 514.7428407669069, Training error: 0.9530000000000001%,, Test error: 1.0%\n",
      "Epoch: 31, Loss: 620.2167928218845, Training error: 0.9570000000000001%,, Test error: 0.872%\n",
      "Epoch: 32, Loss: 282.63783030509944, Training error: 0.9470000000000001%,, Test error: 0.8480000000000001%\n",
      "Epoch: 33, Loss: 131.20154706239703, Training error: 0.907%,, Test error: 0.8530000000000001%\n",
      "Epoch: 34, Loss: 91.82386370897295, Training error: 0.8760000000000001%,, Test error: 0.862%\n",
      "Epoch: 35, Loss: 77.24553340077397, Training error: 0.8690000000000001%,, Test error: 0.85%\n",
      "Epoch: 36, Loss: 68.42660915851594, Training error: 0.8640000000000001%,, Test error: 0.8680000000000001%\n",
      "Epoch: 37, Loss: 62.058799868822106, Training error: 0.8710000000000001%,, Test error: 0.889%\n",
      "Epoch: 38, Loss: 57.21707350611686, Training error: 0.8630000000000001%,, Test error: 0.8960000000000001%\n",
      "Epoch: 39, Loss: 53.04105974435806, Training error: 0.855%,, Test error: 0.9%\n",
      "Epoch: 40, Loss: 49.45298420786859, Training error: 0.857%,, Test error: 0.9010000000000001%\n",
      "Epoch: 41, Loss: 46.247009569406515, Training error: 0.852%,, Test error: 0.912%\n",
      "Epoch: 42, Loss: 43.38901973962784, Training error: 0.835%,, Test error: 0.9130000000000001%\n",
      "Epoch: 43, Loss: 40.91677972078323, Training error: 0.8280000000000001%,, Test error: 0.915%\n",
      "Epoch: 44, Loss: 38.502379882335674, Training error: 0.8160000000000001%,, Test error: 0.921%\n",
      "Epoch: 45, Loss: 36.375846278667446, Training error: 0.81%,, Test error: 0.924%\n",
      "Epoch: 46, Loss: 34.34683788418769, Training error: 0.795%,, Test error: 0.922%\n",
      "Epoch: 47, Loss: 32.36054978370666, Training error: 0.7930000000000001%,, Test error: 0.9230000000000002%\n",
      "Epoch: 48, Loss: 30.569347763061536, Training error: 0.789%,, Test error: 0.922%\n",
      "Epoch: 49, Loss: 28.933054959774015, Training error: 0.7780000000000001%,, Test error: 0.9230000000000002%\n",
      "Epoch: 50, Loss: 27.41923078894615, Training error: 0.784%,, Test error: 0.927%\n",
      "Epoch: 51, Loss: 26.05053283572197, Training error: 0.765%,, Test error: 0.924%\n",
      "Epoch: 52, Loss: 24.693755960464486, Training error: 0.7610000000000001%,, Test error: 0.925%\n",
      "Epoch: 53, Loss: 23.404646021127693, Training error: 0.754%,, Test error: 0.922%\n",
      "Epoch: 54, Loss: 22.198322427272796, Training error: 0.7490000000000001%,, Test error: 0.911%\n",
      "Epoch: 55, Loss: 21.05944291949272, Training error: 0.7390000000000001%,, Test error: 0.902%\n",
      "Epoch: 56, Loss: 19.984605365991595, Training error: 0.733%,, Test error: 0.902%\n",
      "Epoch: 57, Loss: 18.997222089767465, Training error: 0.727%,, Test error: 0.897%\n",
      "Epoch: 58, Loss: 18.03742579519749, Training error: 0.7140000000000001%,, Test error: 0.894%\n",
      "Epoch: 59, Loss: 17.141445323824886, Training error: 0.703%,, Test error: 0.894%\n",
      "Epoch: 60, Loss: 16.400886428356173, Training error: 0.698%,, Test error: 0.895%\n",
      "Epoch: 61, Loss: 15.755447591841229, Training error: 0.687%,, Test error: 0.9%\n",
      "Epoch: 62, Loss: 15.216782193630927, Training error: 0.687%,, Test error: 0.9010000000000001%\n",
      "Epoch: 63, Loss: 14.61427348330617, Training error: 0.686%,, Test error: 0.9%\n",
      "Epoch: 64, Loss: 14.088433299958709, Training error: 0.68%,, Test error: 0.8980000000000001%\n",
      "Epoch: 65, Loss: 13.628381040692332, Training error: 0.6829999999999999%,, Test error: 0.894%\n",
      "Epoch: 66, Loss: 13.346643891930587, Training error: 0.679%,, Test error: 0.8910000000000001%\n",
      "Epoch: 67, Loss: 13.152595078945161, Training error: 0.675%,, Test error: 0.889%\n",
      "Epoch: 68, Loss: 13.135209454596039, Training error: 0.676%,, Test error: 0.892%\n",
      "Epoch: 69, Loss: 13.47146967053414, Training error: 0.674%,, Test error: 0.892%\n",
      "Epoch: 70, Loss: 13.973451712727547, Training error: 0.693%,, Test error: 0.877%\n",
      "Epoch: 71, Loss: 15.645690834522249, Training error: 0.708%,, Test error: 0.8610000000000001%\n",
      "Epoch: 72, Loss: 20.149207940697675, Training error: 0.738%,, Test error: 0.87%\n",
      "Epoch: 73, Loss: 38.98145331144334, Training error: 0.791%,, Test error: 0.907%\n",
      "Epoch: 74, Loss: 137.40100278854365, Training error: 0.867%,, Test error: 0.9520000000000001%\n",
      "Epoch: 75, Loss: 114.2848799407482, Training error: 0.8740000000000001%,, Test error: 0.9670000000000001%\n",
      "Epoch: 76, Loss: 92.74856634140014, Training error: 0.8680000000000001%,, Test error: 0.847%\n",
      "Epoch: 77, Loss: 78.44994935989381, Training error: 0.877%,, Test error: 0.97%\n",
      "Epoch: 78, Loss: 36.51002198755739, Training error: 0.758%,, Test error: 0.815%\n",
      "Epoch: 79, Loss: 10.81726964861154, Training error: 0.617%,, Test error: 0.722%\n",
      "Epoch: 80, Loss: 7.1171741679310765, Training error: 0.544%,, Test error: 0.671%\n",
      "Epoch: 81, Loss: 5.6003499865531925, Training error: 0.504%,, Test error: 0.638%\n",
      "Epoch: 82, Loss: 4.659959794580937, Training error: 0.4590000000000001%,, Test error: 0.621%\n",
      "Epoch: 83, Loss: 3.9999608032405374, Training error: 0.431%,, Test error: 0.6080000000000001%\n",
      "Epoch: 84, Loss: 3.50456657409668, Training error: 0.40900000000000003%,, Test error: 0.602%\n",
      "Epoch: 85, Loss: 3.12531221844256, Training error: 0.38%,, Test error: 0.5930000000000001%\n",
      "Epoch: 86, Loss: 2.82532091215253, Training error: 0.343%,, Test error: 0.586%\n",
      "Epoch: 87, Loss: 2.5670717105269434, Training error: 0.322%,, Test error: 0.5780000000000001%\n",
      "Epoch: 88, Loss: 2.3589902065694335, Training error: 0.30400000000000005%,, Test error: 0.5720000000000001%\n",
      "Epoch: 89, Loss: 2.1813247770071036, Training error: 0.281%,, Test error: 0.5670000000000001%\n",
      "Epoch: 90, Loss: 2.032718818634748, Training error: 0.266%,, Test error: 0.561%\n",
      "Epoch: 91, Loss: 1.887336791306734, Training error: 0.251%,, Test error: 0.554%\n",
      "Epoch: 92, Loss: 1.7654376931488507, Training error: 0.235%,, Test error: 0.548%\n",
      "Epoch: 93, Loss: 1.6492806881666175, Training error: 0.215%,, Test error: 0.543%\n",
      "Epoch: 94, Loss: 1.5504624567925924, Training error: 0.196%,, Test error: 0.535%\n",
      "Epoch: 95, Loss: 1.4626846145838495, Training error: 0.18900000000000003%,, Test error: 0.533%\n",
      "Epoch: 96, Loss: 1.380253046751023, Training error: 0.18%,, Test error: 0.535%\n",
      "Epoch: 97, Loss: 1.3105682004243142, Training error: 0.171%,, Test error: 0.529%\n",
      "Epoch: 98, Loss: 1.2446690071374173, Training error: 0.161%,, Test error: 0.531%\n",
      "Epoch: 99, Loss: 1.1847425084561107, Training error: 0.15100000000000002%,, Test error: 0.526%\n"
     ]
    }
   ],
   "source": [
    "model, criterion,  = Comparaison(), nn.MSELoss()\n",
    "eta, mini_batch_size = 1e-3, 10\n",
    "optimizer = torch.optim.Adam(model.parameters(), lr=eta)\n",
    "n_epochs = 50\n",
    "e_tr_t, e_te_t = train_model(model, train_input, train_target_final, test_input, test_target_final, mini_batch_size, n_epochs)"
   ]
  },
  {
   "cell_type": "code",
   "execution_count": 31,
   "metadata": {},
   "outputs": [
    {
     "data": {
      "image/png": "[encoded data removed]",
      "text/plain": [
       "<Figure size 432x288 with 1 Axes>"
      ]
     },
     "metadata": {
      "needs_background": "light"
     },
     "output_type": "display_data"
    }
   ],
   "source": [
    "plt.plot(e_tr_t)\n",
    "plt.plot(e_te_t)\n",
    "plt.show()"
   ]
  },
  {
   "cell_type": "code",
   "execution_count": 29,
   "metadata": {},
   "outputs": [
    {
     "name": "stdout",
     "output_type": "stream",
     "text": [
      "Epoch: 0, Loss: 1.1369333770126109, Training error: 0.14%,, Test error: 0.517%\n",
      "Epoch: 1, Loss: 1.0869169361889368, Training error: 0.132%,, Test error: 0.516%\n",
      "Epoch: 2, Loss: 1.057724992744625, Training error: 0.127%,, Test error: 0.515%\n",
      "Epoch: 3, Loss: 1.023709313198924, Training error: 0.12%,, Test error: 0.512%\n",
      "Epoch: 4, Loss: 0.9951163975521923, Training error: 0.113%,, Test error: 0.516%\n",
      "Epoch: 5, Loss: 0.9774471513926984, Training error: 0.11%,, Test error: 0.515%\n",
      "Epoch: 6, Loss: 0.9853067714720967, Training error: 0.12%,, Test error: 0.507%\n",
      "Epoch: 7, Loss: 0.9976363896392284, Training error: 0.114%,, Test error: 0.517%\n",
      "Epoch: 8, Loss: 0.9858318613842126, Training error: 0.11900000000000001%,, Test error: 0.517%\n",
      "Epoch: 9, Loss: 0.9804338863119485, Training error: 0.12100000000000001%,, Test error: 0.511%\n",
      "Epoch: 10, Loss: 0.9866344293579461, Training error: 0.11800000000000001%,, Test error: 0.524%\n",
      "Epoch: 11, Loss: 1.0752486128360028, Training error: 0.134%,, Test error: 0.528%\n",
      "Epoch: 12, Loss: 1.2829259296879174, Training error: 0.159%,, Test error: 0.542%\n",
      "Epoch: 13, Loss: 1.6107514569535855, Training error: 0.20700000000000002%,, Test error: 0.5870000000000001%\n",
      "Epoch: 14, Loss: 2.4894401218742135, Training error: 0.29200000000000004%,, Test error: 0.767%\n",
      "Epoch: 15, Loss: 6.157328388094903, Training error: 0.533%,, Test error: 0.95%\n",
      "Epoch: 16, Loss: 19.37567094564437, Training error: 0.7110000000000001%,, Test error: 0.7710000000000001%\n",
      "Epoch: 17, Loss: 7.558391547203064, Training error: 0.5680000000000001%,, Test error: 0.4590000000000001%\n",
      "Epoch: 18, Loss: 3.502502202056347, Training error: 0.3990000000000001%,, Test error: 0.44900000000000007%\n",
      "Epoch: 19, Loss: 2.1577169086784123, Training error: 0.276%,, Test error: 0.425%\n",
      "Epoch: 20, Loss: 1.8565730355679984, Training error: 0.229%,, Test error: 0.43900000000000006%\n",
      "Epoch: 21, Loss: 1.7201759327203034, Training error: 0.215%,, Test error: 0.42300000000000004%\n",
      "Epoch: 22, Loss: 1.5522863969206815, Training error: 0.201%,, Test error: 0.40700000000000003%\n",
      "Epoch: 23, Loss: 1.3871198164299132, Training error: 0.17%,, Test error: 0.3990000000000001%\n",
      "Epoch: 24, Loss: 1.2719232607632873, Training error: 0.155%,, Test error: 0.396%\n",
      "Epoch: 25, Loss: 1.1784275747835635, Training error: 0.14400000000000002%,, Test error: 0.396%\n",
      "Epoch: 26, Loss: 1.128087748773396, Training error: 0.126%,, Test error: 0.4040000000000001%\n",
      "Epoch: 27, Loss: 1.0701364997774365, Training error: 0.113%,, Test error: 0.40900000000000003%\n",
      "Epoch: 28, Loss: 1.0319716863334178, Training error: 0.11200000000000002%,, Test error: 0.41400000000000003%\n",
      "Epoch: 29, Loss: 0.9948653824627399, Training error: 0.105%,, Test error: 0.41100000000000003%\n",
      "Epoch: 30, Loss: 0.9496782615780829, Training error: 0.105%,, Test error: 0.41900000000000004%\n",
      "Epoch: 31, Loss: 0.9120270617306231, Training error: 0.09200000000000001%,, Test error: 0.415%\n",
      "Epoch: 32, Loss: 0.8888661086559293, Training error: 0.095%,, Test error: 0.415%\n",
      "Epoch: 33, Loss: 0.8595120657235386, Training error: 0.083%,, Test error: 0.42200000000000004%\n",
      "Epoch: 34, Loss: 0.8444227416068314, Training error: 0.08200000000000002%,, Test error: 0.43900000000000006%\n",
      "Epoch: 35, Loss: 0.8394691251218319, Training error: 0.08200000000000002%,, Test error: 0.45400000000000007%\n",
      "Epoch: 36, Loss: 0.8515238547697662, Training error: 0.083%,, Test error: 0.47700000000000004%\n",
      "Epoch: 37, Loss: 0.8620534798130393, Training error: 0.08700000000000001%,, Test error: 0.496%\n",
      "Epoch: 38, Loss: 0.8886983148753643, Training error: 0.09600000000000002%,, Test error: 0.512%\n",
      "Epoch: 39, Loss: 0.9316339937970041, Training error: 0.10800000000000001%,, Test error: 0.512%\n",
      "Epoch: 40, Loss: 1.1943989053368573, Training error: 0.14100000000000001%,, Test error: 0.554%\n",
      "Epoch: 41, Loss: 1.6682376150041813, Training error: 0.21%,, Test error: 0.5690000000000001%\n",
      "Epoch: 42, Loss: 2.981695288978517, Training error: 0.36200000000000004%,, Test error: 0.634%\n",
      "Epoch: 43, Loss: 4.806070806831121, Training error: 0.4640000000000001%,, Test error: 0.47100000000000003%\n",
      "Epoch: 44, Loss: 3.8219777889549738, Training error: 0.42200000000000004%,, Test error: 0.465%\n",
      "Epoch: 45, Loss: 2.4820939917117357, Training error: 0.311%,, Test error: 0.41700000000000004%\n",
      "Epoch: 46, Loss: 1.6947311418130993, Training error: 0.231%,, Test error: 0.365%\n",
      "Epoch: 47, Loss: 1.3932958161458373, Training error: 0.177%,, Test error: 0.344%\n",
      "Epoch: 48, Loss: 1.2697994379326698, Training error: 0.15100000000000002%,, Test error: 0.355%\n",
      "Epoch: 49, Loss: 1.195904043875635, Training error: 0.145%,, Test error: 0.365%\n"
     ]
    }
   ],
   "source": [
    "e_tr_t2, e_te_t2 = train_model(model, train_input, train_target_final, test_input, test_target_final, mini_batch_size, 50)"
   ]
  },
  {
   "cell_type": "code",
   "execution_count": 30,
   "metadata": {},
   "outputs": [],
   "source": [
    "e_tr_t += e_tr_t2\n",
    "e_te_t += e_te_t2"
   ]
  },
  {
   "cell_type": "code",
   "execution_count": null,
   "metadata": {},
   "outputs": [],
   "source": []
  }
 ],
 "metadata": {
  "kernelspec": {
   "display_name": "Python 3",
   "language": "python",
   "name": "python3"
  },
  "language_info": {
   "codemirror_mode": {
    "name": "ipython",
    "version": 3
   },
   "file_extension": ".py",
   "mimetype": "text/x-python",
   "name": "python",
   "nbconvert_exporter": "python",
   "pygments_lexer": "ipython3",
   "version": "3.6.8"
  }
 },
 "nbformat": 4,
 "nbformat_minor": 2
}
