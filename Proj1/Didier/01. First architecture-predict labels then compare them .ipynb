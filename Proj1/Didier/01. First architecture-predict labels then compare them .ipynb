{
 "cells": [
  {
   "cell_type": "markdown",
   "metadata": {},
   "source": [
    "### First architecture: \n",
    "As a first architecture, we reshape the data in order to only learn the classes of each image. The comparison of labels is done as a post-processing step. "
   ]
  },
  {
   "cell_type": "code",
   "execution_count": 14,
   "metadata": {},
   "outputs": [],
   "source": [
    "import torch\n",
    "from torch.autograd import Variable\n",
    "from torch import nn\n",
    "from torch.nn import functional as F\n",
    "from torch.optim.lr_scheduler import StepLR\n",
    "from torch.optim.lr_scheduler import MultiStepLR\n",
    "import matplotlib.pyplot as plt\n",
    "import numpy as np\n",
    "\n",
    "import dlc_practical_prologue as prologue\n",
    "%matplotlib inline"
   ]
  },
  {
   "cell_type": "markdown",
   "metadata": {},
   "source": [
    "### Load data "
   ]
  },
  {
   "cell_type": "code",
   "execution_count": 15,
   "metadata": {},
   "outputs": [],
   "source": [
    "N = 10\n",
    "train_input, train_target_final, train_classes, test_input, test_target_final,test_classes = prologue.generate_pair_sets(N)"
   ]
  },
  {
   "cell_type": "code",
   "execution_count": 16,
   "metadata": {},
   "outputs": [
    {
     "data": {
      "image/png": "[encoded data removed]",
      "text/plain": [
       "<Figure size 432x288 with 1 Axes>"
      ]
     },
     "metadata": {
      "needs_background": "light"
     },
     "output_type": "display_data"
    },
    {
     "data": {
      "image/png": "[encoded data removed]",
      "text/plain": [
       "<Figure size 432x288 with 1 Axes>"
      ]
     },
     "metadata": {
      "needs_background": "light"
     },
     "output_type": "display_data"
    }
   ],
   "source": [
    "# Show images\n",
    "img1 = train_input[5][0]\n",
    "plt.imshow(img1)\n",
    "plt.show()\n",
    "img2 = train_input[5][1]\n",
    "plt.imshow(img2)\n",
    "plt.show()"
   ]
  },
  {
   "cell_type": "markdown",
   "metadata": {},
   "source": [
    "### Define one-hot classes"
   ]
  },
  {
   "cell_type": "code",
   "execution_count": 17,
   "metadata": {},
   "outputs": [
    {
     "name": "stdout",
     "output_type": "stream",
     "text": [
      "tensor([[0., 0., 0., 0., 0., 0., 0., 0., 0., 0.],\n",
      "        [0., 0., 0., 0., 0., 0., 0., 0., 0., 0.],\n",
      "        [0., 0., 0., 0., 0., 0., 0., 0., 0., 0.],\n",
      "        [0., 0., 0., 0., 0., 0., 0., 0., 0., 0.],\n",
      "        [0., 0., 0., 0., 0., 0., 0., 0., 0., 0.],\n",
      "        [0., 0., 0., 0., 0., 0., 0., 0., 0., 0.],\n",
      "        [0., 0., 0., 0., 0., 0., 0., 0., 0., 0.],\n",
      "        [0., 0., 0., 0., 0., 0., 0., 0., 0., 0.],\n",
      "        [0., 0., 0., 0., 0., 0., 0., 0., 0., 0.],\n",
      "        [0., 0., 0., 0., 0., 0., 0., 0., 0., 0.],\n",
      "        [0., 0., 0., 0., 0., 0., 0., 0., 0., 0.],\n",
      "        [0., 0., 0., 0., 0., 0., 0., 0., 0., 0.],\n",
      "        [0., 0., 0., 0., 0., 0., 0., 0., 0., 0.],\n",
      "        [0., 0., 0., 0., 0., 0., 0., 0., 0., 0.],\n",
      "        [0., 0., 0., 0., 0., 0., 0., 0., 0., 0.],\n",
      "        [0., 0., 0., 0., 0., 0., 0., 0., 0., 0.],\n",
      "        [0., 0., 0., 0., 0., 0., 0., 0., 0., 0.],\n",
      "        [0., 0., 0., 0., 0., 0., 0., 0., 0., 0.],\n",
      "        [0., 0., 0., 0., 0., 0., 0., 0., 0., 0.],\n",
      "        [0., 0., 0., 0., 0., 0., 0., 0., 0., 0.]])\n"
     ]
    }
   ],
   "source": [
    "train_binary_classes = torch.full((2*N,10), 0)\n",
    "test_binary_classes = torch.full((2*N, 10), 0)\n",
    "print(train_binary_classes)"
   ]
  },
  {
   "cell_type": "code",
   "execution_count": 18,
   "metadata": {},
   "outputs": [
    {
     "data": {
      "text/plain": [
       "tensor([[7, 9],\n",
       "        [2, 8],\n",
       "        [6, 4],\n",
       "        [4, 2],\n",
       "        [9, 4],\n",
       "        [5, 4],\n",
       "        [1, 1],\n",
       "        [2, 0],\n",
       "        [2, 1],\n",
       "        [6, 8]])"
      ]
     },
     "execution_count": 18,
     "metadata": {},
     "output_type": "execute_result"
    }
   ],
   "source": [
    "test_classes"
   ]
  },
  {
   "cell_type": "code",
   "execution_count": 19,
   "metadata": {
    "scrolled": true
   },
   "outputs": [
    {
     "name": "stdout",
     "output_type": "stream",
     "text": [
      "tensor([[0., 0., 0., 0., 0., 0., 0., 1., 0., 0.],\n",
      "        [0., 0., 0., 0., 0., 0., 0., 0., 0., 1.],\n",
      "        [0., 1., 0., 0., 0., 0., 0., 0., 0., 0.],\n",
      "        [0., 0., 0., 0., 0., 0., 0., 0., 1., 0.],\n",
      "        [0., 0., 0., 0., 0., 1., 0., 0., 0., 0.],\n",
      "        [0., 0., 0., 1., 0., 0., 0., 0., 0., 0.],\n",
      "        [0., 0., 1., 0., 0., 0., 0., 0., 0., 0.],\n",
      "        [0., 0., 1., 0., 0., 0., 0., 0., 0., 0.],\n",
      "        [0., 0., 1., 0., 0., 0., 0., 0., 0., 0.],\n",
      "        [0., 1., 0., 0., 0., 0., 0., 0., 0., 0.],\n",
      "        [0., 0., 1., 0., 0., 0., 0., 0., 0., 0.],\n",
      "        [0., 0., 1., 0., 0., 0., 0., 0., 0., 0.],\n",
      "        [0., 0., 0., 1., 0., 0., 0., 0., 0., 0.],\n",
      "        [0., 0., 0., 0., 1., 0., 0., 0., 0., 0.],\n",
      "        [1., 0., 0., 0., 0., 0., 0., 0., 0., 0.],\n",
      "        [0., 0., 0., 0., 0., 0., 1., 0., 0., 0.],\n",
      "        [0., 0., 0., 0., 0., 0., 0., 0., 1., 0.],\n",
      "        [0., 0., 1., 0., 0., 0., 0., 0., 0., 0.],\n",
      "        [0., 1., 0., 0., 0., 0., 0., 0., 0., 0.],\n",
      "        [0., 0., 0., 0., 1., 0., 0., 0., 0., 0.]])\n"
     ]
    }
   ],
   "source": [
    "train_binary_classes.scatter_(1,train_classes.reshape((2*N, 1)), 1)\n",
    "test_binary_classes.scatter_(1,test_classes.reshape((2*N, 1)), 1)\n",
    "print(train_binary_classes)"
   ]
  },
  {
   "cell_type": "code",
   "execution_count": 20,
   "metadata": {},
   "outputs": [
    {
     "data": {
      "text/plain": [
       "tensor([[7, 9],\n",
       "        [1, 8],\n",
       "        [5, 3],\n",
       "        [2, 2],\n",
       "        [2, 1],\n",
       "        [2, 2],\n",
       "        [3, 4],\n",
       "        [0, 6],\n",
       "        [8, 2],\n",
       "        [1, 4]])"
      ]
     },
     "execution_count": 20,
     "metadata": {},
     "output_type": "execute_result"
    }
   ],
   "source": [
    "train_classes"
   ]
  },
  {
   "cell_type": "code",
   "execution_count": 21,
   "metadata": {},
   "outputs": [
    {
     "data": {
      "text/plain": [
       "tensor([[0., 0., 0., 0., 0., 0., 0., 1., 0., 0.],\n",
       "        [0., 0., 0., 0., 0., 0., 0., 0., 0., 1.],\n",
       "        [0., 1., 0., 0., 0., 0., 0., 0., 0., 0.],\n",
       "        [0., 0., 0., 0., 0., 0., 0., 0., 1., 0.],\n",
       "        [0., 0., 0., 0., 0., 1., 0., 0., 0., 0.],\n",
       "        [0., 0., 0., 1., 0., 0., 0., 0., 0., 0.],\n",
       "        [0., 0., 1., 0., 0., 0., 0., 0., 0., 0.],\n",
       "        [0., 0., 1., 0., 0., 0., 0., 0., 0., 0.],\n",
       "        [0., 0., 1., 0., 0., 0., 0., 0., 0., 0.],\n",
       "        [0., 1., 0., 0., 0., 0., 0., 0., 0., 0.],\n",
       "        [0., 0., 1., 0., 0., 0., 0., 0., 0., 0.],\n",
       "        [0., 0., 1., 0., 0., 0., 0., 0., 0., 0.],\n",
       "        [0., 0., 0., 1., 0., 0., 0., 0., 0., 0.],\n",
       "        [0., 0., 0., 0., 1., 0., 0., 0., 0., 0.],\n",
       "        [1., 0., 0., 0., 0., 0., 0., 0., 0., 0.],\n",
       "        [0., 0., 0., 0., 0., 0., 1., 0., 0., 0.],\n",
       "        [0., 0., 0., 0., 0., 0., 0., 0., 1., 0.],\n",
       "        [0., 0., 1., 0., 0., 0., 0., 0., 0., 0.],\n",
       "        [0., 1., 0., 0., 0., 0., 0., 0., 0., 0.],\n",
       "        [0., 0., 0., 0., 1., 0., 0., 0., 0., 0.]])"
      ]
     },
     "execution_count": 21,
     "metadata": {},
     "output_type": "execute_result"
    }
   ],
   "source": [
    "train_binary_classes"
   ]
  },
  {
   "cell_type": "code",
   "execution_count": 22,
   "metadata": {},
   "outputs": [],
   "source": [
    "train_input, train_target = Variable(train_input.reshape((2*N, 14*14))), Variable(train_binary_classes)\n",
    "test_input, test_target = Variable(test_input.reshape((2*N, 14*14))), Variable(test_binary_classes)"
   ]
  },
  {
   "cell_type": "markdown",
   "metadata": {},
   "source": [
    "### Standardize the data"
   ]
  },
  {
   "cell_type": "code",
   "execution_count": 23,
   "metadata": {},
   "outputs": [],
   "source": [
    "mu = train_input.mean(dim=0)\n",
    "std = train_input.std(dim=0)"
   ]
  },
  {
   "cell_type": "code",
   "execution_count": 24,
   "metadata": {},
   "outputs": [
    {
     "data": {
      "text/plain": [
       "tensor([[0., 0., 0.,  ..., 0., 0., 0.],\n",
       "        [0., 0., 0.,  ..., 0., 0., 0.],\n",
       "        [0., 0., 0.,  ..., 0., 0., 0.],\n",
       "        ...,\n",
       "        [0., 0., 0.,  ..., 0., 0., 0.],\n",
       "        [0., 0., 0.,  ..., 0., 0., 0.],\n",
       "        [0., 0., 0.,  ..., 0., 0., 0.]])"
      ]
     },
     "execution_count": 24,
     "metadata": {},
     "output_type": "execute_result"
    }
   ],
   "source": [
    "train_input.sub_(mu).div_(std+1)"
   ]
  },
  {
   "cell_type": "code",
   "execution_count": 25,
   "metadata": {},
   "outputs": [
    {
     "data": {
      "text/plain": [
       "tensor([[0., 0., 0.,  ..., 0., 0., 0.],\n",
       "        [0., 0., 0.,  ..., 0., 0., 0.],\n",
       "        [0., 0., 0.,  ..., 0., 0., 0.],\n",
       "        ...,\n",
       "        [0., 0., 0.,  ..., 0., 0., 0.],\n",
       "        [0., 0., 0.,  ..., 0., 0., 0.],\n",
       "        [0., 0., 0.,  ..., 0., 0., 0.]])"
      ]
     },
     "execution_count": 25,
     "metadata": {},
     "output_type": "execute_result"
    }
   ],
   "source": [
    "test_input.sub_(mu).div_(std+1)"
   ]
  },
  {
   "cell_type": "markdown",
   "metadata": {},
   "source": [
    "### Functions to train the model"
   ]
  },
  {
   "cell_type": "markdown",
   "metadata": {},
   "source": [
    "#### Computes error w.r.t classes "
   ]
  },
  {
   "cell_type": "code",
   "execution_count": 26,
   "metadata": {},
   "outputs": [],
   "source": [
    "def compute_nb_errors(output, target):\n",
    "    #return (output.argmax(dim=1) != target.argmax(dim=1)).sum().item()\n",
    "    return (torch.round(output)!=target).sum().item()"
   ]
  },
  {
   "cell_type": "markdown",
   "metadata": {},
   "source": [
    "#### Computes error w.r.t final labels"
   ]
  },
  {
   "cell_type": "code",
   "execution_count": 27,
   "metadata": {},
   "outputs": [],
   "source": [
    "def compute_errors_final(output, target, mini_batch_size):\n",
    "    output_classes = output.reshape((mini_batch_size//2, 2, 10)).argmax(dim=2)\n",
    "    target_classes = target.reshape((mini_batch_size//2, 2, 10)).argmax(dim=2)\n",
    "    final_output = (output_classes[:,0] <= output_classes[:,1])\n",
    "    final_target = (target_classes[:,0] <= target_classes[:,1])\n",
    "    return (final_output != final_target).sum().item()"
   ]
  },
  {
   "cell_type": "markdown",
   "metadata": {},
   "source": [
    "#### Trains the model"
   ]
  },
  {
   "cell_type": "code",
   "execution_count": 28,
   "metadata": {},
   "outputs": [],
   "source": [
    "def train_model(model, train_input, train_target, test_input,\n",
    "                test_target, mini_batch_size, n_epochs,milestone=[],learning_change=1):\n",
    "    error_train_total = []\n",
    "    error_test_total = []\n",
    "    scheduler = MultiStepLR(optimizer, milestones=milestone, gamma=learning_change)\n",
    "    for e in range(0, n_epochs):\n",
    "        scheduler.step()\n",
    "        sum_loss = 0\n",
    "        sum_error = 0\n",
    "        sum_error_final = 0\n",
    "        \n",
    "        # We do this with mini-batches\n",
    "        for b in range(0, train_input.size(0), mini_batch_size):\n",
    "            output = model(train_input.narrow(0, b, mini_batch_size))\n",
    "            \n",
    "            train_target_batch = train_target.narrow(0, b, mini_batch_size)\n",
    "            loss = criterion(output, train_target_batch)\n",
    "            sum_error += compute_nb_errors(output, train_target_batch)/mini_batch_size\n",
    "            #sum_error_final += compute_errors_final(output, train_target_batch, mini_batch_size)\n",
    "            sum_loss = sum_loss + loss.item()/mini_batch_size\n",
    "            optimizer.zero_grad()\n",
    "            loss.backward()\n",
    "            optimizer.step()\n",
    "        output_test = model(test_input)\n",
    "        test_error = compute_nb_errors(output_test, test_target)\n",
    "        error_test_total.append((1/N)*50*test_error)\n",
    "        error_train_total.append((1/N)*50*sum_error)\n",
    "        test_error_final = compute_errors_final(output_test, test_target, 2*N)\n",
    "        print('Epoch: {}, Loss: {}, Training error: {}%, Final training error: {}%, Test error: {}%, Final test error: {}%'.format(e, sum_loss, 50*sum_error/N, 100*sum_error_final/N, 50*test_error/N, 100*test_error_final/N))\n",
    "        #if (e %1 == 0):\n",
    "            #print('Epoch: {}, Loss: {}, Training error: {}%,, Test error: {}%'.format(e, sum_loss, error_train_total[e], error_test_total[e]))\n",
    "    return error_train_total,error_test_total,test_error_final"
   ]
  },
  {
   "cell_type": "code",
   "execution_count": 29,
   "metadata": {},
   "outputs": [],
   "source": [
    "def train_model_2_images(model, train_input, train_target, test_input,\n",
    "                test_target, mini_batch_size, n_epochs,milestone=[],learning_change=1):\n",
    "    error_train_total = []\n",
    "    error_test_total = []\n",
    "    scheduler = MultiStepLR(optimizer, milestones=milestone, gamma=learning_change)\n",
    "    for e in range(0, n_epochs):\n",
    "        scheduler.step()\n",
    "        sum_loss = 0\n",
    "        sum_error = 0\n",
    "        sum_error_final = 0\n",
    "        \n",
    "        # We do this with mini-batches\n",
    "        for b in range(0, train_input.size(0), mini_batch_size):\n",
    "            output = model(train_input.narrow(0, b, mini_batch_size))\n",
    "            train_target_batch = train_target.narrow(0, b, mini_batch_size)\n",
    "            loss = criterion(output, train_target_batch)\n",
    "            sum_error += compute_nb_errors(output, train_target_batch)/mini_batch_size\n",
    "            #sum_error_final += compute_errors_final(output, train_target_batch, mini_batch_size)\n",
    "            sum_loss = sum_loss + loss.item()/mini_batch_size\n",
    "            optimizer.zero_grad()\n",
    "            loss.backward()\n",
    "            optimizer.step()\n",
    "        output_test = model(test_input)\n",
    "        test_error = compute_nb_errors(output_test, test_target)\n",
    "        error_test_total.append((1/N)*100*test_error)\n",
    "        error_train_total.append((1/N)*100*sum_error)\n",
    "        if (e %1 == 0):\n",
    "            print('Epoch: {}, Loss: {}, Training error: {}%,, Test error: {}%'.format(e, sum_loss, error_train_total[e], error_test_total[e]))\n",
    "    return error_train_total,error_test_total"
   ]
  },
  {
   "cell_type": "markdown",
   "metadata": {},
   "source": [
    "### First network: MLP"
   ]
  },
  {
   "cell_type": "code",
   "execution_count": 30,
   "metadata": {
    "scrolled": true
   },
   "outputs": [],
   "source": [
    "d = train_input.shape[1]\n",
    "h1 = 50\n",
    "h2 = 50\n",
    "d_out = train_target.shape[1]\n",
    "VanillaNN = nn.Sequential(\n",
    "      nn.Linear(d, h1, bias=True),\n",
    "      nn.ReLU(),\n",
    "      nn.Linear(h1, h2, bias=True),\n",
    "      nn.ReLU(),\n",
    "      nn.Linear(h2, d_out),\n",
    "      nn.ReLU(),\n",
    "      )"
   ]
  },
  {
   "cell_type": "code",
   "execution_count": 31,
   "metadata": {},
   "outputs": [],
   "source": [
    "model, criterion,  = VanillaNN, nn.MSELoss()\n",
    "eta, mini_batch_size = 1e-3, 10\n",
    "optimizer = torch.optim.Adam(model.parameters(), lr=eta)\n",
    "n_epochs = 10"
   ]
  },
  {
   "cell_type": "code",
   "execution_count": 32,
   "metadata": {},
   "outputs": [
    {
     "data": {
      "text/plain": [
       "torch.Size([20, 196])"
      ]
     },
     "execution_count": 32,
     "metadata": {},
     "output_type": "execute_result"
    }
   ],
   "source": [
    "train_input.shape"
   ]
  },
  {
   "cell_type": "code",
   "execution_count": 311,
   "metadata": {
    "scrolled": true
   },
   "outputs": [
    {
     "name": "stdout",
     "output_type": "stream",
     "text": [
      "Epoch: 0, Loss: 1.2203770287334912, Training error: 6.934999999999998%, Final training error: 0.0%, Test error: 43.8%, Final test error: 24.2%\n",
      "Epoch: 1, Loss: 0.745016082795337, Training error: 3.970000000000001%, Final training error: 0.0%, Test error: 39.3%, Final test error: 22.9%\n",
      "Epoch: 2, Loss: 0.6552721269428732, Training error: 3.325000000000001%, Final training error: 0.0%, Test error: 38.55%, Final test error: 22.7%\n",
      "Epoch: 3, Loss: 0.6045750941033474, Training error: 2.9700000000000006%, Final training error: 0.0%, Test error: 37.05%, Final test error: 22.0%\n",
      "Epoch: 4, Loss: 0.5707205858896485, Training error: 2.715%, Final training error: 0.0%, Test error: 36.75%, Final test error: 22.2%\n",
      "Epoch: 5, Loss: 0.5493791301385502, Training error: 2.595000000000001%, Final training error: 0.0%, Test error: 36.05%, Final test error: 22.2%\n",
      "Epoch: 6, Loss: 0.532720469089691, Training error: 2.470000000000001%, Final training error: 0.0%, Test error: 35.85%, Final test error: 22.3%\n",
      "Epoch: 7, Loss: 0.5170355250127615, Training error: 2.4100000000000015%, Final training error: 0.0%, Test error: 35.25%, Final test error: 21.9%\n",
      "Epoch: 8, Loss: 0.5078253645915539, Training error: 2.375000000000001%, Final training error: 0.0%, Test error: 35.1%, Final test error: 22.5%\n",
      "Epoch: 9, Loss: 0.5039738877443597, Training error: 2.390000000000001%, Final training error: 0.0%, Test error: 34.95%, Final test error: 22.2%\n"
     ]
    }
   ],
   "source": [
    "train_model(model, train_input, train_target, test_input,\n",
    "                test_target, mini_batch_size, n_epochs);"
   ]
  },
  {
   "cell_type": "markdown",
   "metadata": {},
   "source": [
    "### Second network: modified LeNet"
   ]
  },
  {
   "cell_type": "code",
   "execution_count": 356,
   "metadata": {},
   "outputs": [],
   "source": [
    "class Net(nn.Module):\n",
    "    def __init__(self):\n",
    "        super(Net, self).__init__()\n",
    "        self.conv1 = nn.Conv2d(1, 8, kernel_size=3)\n",
    "        self.conv2 = nn.Conv2d(8, 16, kernel_size=3)\n",
    "        self.fc1 = nn.Linear(64, 20)\n",
    "        self.fc2 = nn.Linear(20, 10)\n",
    "\n",
    "    def forward(self, x):\n",
    "        x = F.relu(F.max_pool2d(self.conv1(x), kernel_size=2, stride=2))\n",
    "        x = F.relu(F.max_pool2d(self.conv2(x), kernel_size=2))\n",
    "        x = F.relu(self.fc1(x.view(-1, 64)))\n",
    "        x = self.fc2(x)\n",
    "        return x"
   ]
  },
  {
   "cell_type": "code",
   "execution_count": 357,
   "metadata": {},
   "outputs": [],
   "source": [
    "class Net2(nn.Module):\n",
    "    def __init__(self):\n",
    "        super(Net2, self).__init__()\n",
    "        self.conv1 = nn.Conv2d(1, 8, kernel_size=3)\n",
    "        self.conv2 = nn.Conv2d(8, 16, kernel_size=3)\n",
    "        self.fc1 = nn.Linear(64, 20)\n",
    "        self.fc2 = nn.Linear(20, 10)\n",
    "        self.dropout = nn.Dropout()\n",
    "\n",
    "    def forward(self, x):\n",
    "        x = F.relu(F.max_pool2d(self.conv1(x), kernel_size=2, stride=2))\n",
    "        x = F.relu(F.max_pool2d(self.conv2(x), kernel_size=2))\n",
    "        x = F.relu(self.fc1(x.view(-1, 64)))\n",
    "        x = self.fc2(x)\n",
    "        return x"
   ]
  },
  {
   "cell_type": "code",
   "execution_count": 469,
   "metadata": {},
   "outputs": [],
   "source": [
    "class ModelDrop(nn.Module):\n",
    "    def __init__(self):\n",
    "        super(ModelDrop, self).__init__()\n",
    "        self.conv1 = nn.Conv2d(1, 32, kernel_size=3)\n",
    "        self.fc1 = nn.Linear(128, 128)\n",
    "        self.fc2 = nn.Linear(128, 10)\n",
    "        #self.dropout = nn.Dropout(0.2)\n",
    "\n",
    "    def forward(self, x):\n",
    "        x = F.relu(F.max_pool2d(self.conv1(x), kernel_size=6,stride=6))\n",
    "        x = x.view(-1, 128)\n",
    "        x = self.fc1(x)\n",
    "        x = F.relu(x)\n",
    "        x = self.fc2(x)\n",
    "        x = F.relu(x)\n",
    "        return x"
   ]
  },
  {
   "cell_type": "code",
   "execution_count": 470,
   "metadata": {},
   "outputs": [],
   "source": [
    "train_input, train_target = Variable(train_input.reshape((2*N,1, 14, 14))), Variable(train_binary_classes)\n",
    "test_input, test_target = Variable(test_input.reshape((2*N,1, 14, 14))), Variable(test_binary_classes)\n",
    "model, criterion = ModelDrop(), nn.MSELoss()\n",
    "eta, mini_batch_size = 1e-3, 10\n",
    "optimizer = torch.optim.Adam(model.parameters(), lr=eta)"
   ]
  },
  {
   "cell_type": "code",
   "execution_count": 471,
   "metadata": {
    "scrolled": true
   },
   "outputs": [
    {
     "name": "stdout",
     "output_type": "stream",
     "text": [
      "Epoch: 0, Loss: 9.121820111572724, Training error: 9.209999999999944%, Final training error: 0.0%, Test error: 85.77%, Final test error: 40.82%\n",
      "Epoch: 1, Loss: 8.388273506239042, Training error: 8.460999999999963%, Final training error: 0.0%, Test error: 83.81%, Final test error: 34.58%\n",
      "Epoch: 2, Loss: 8.296080698817963, Training error: 8.326999999999964%, Final training error: 0.0%, Test error: 84.52%, Final test error: 34.36%\n",
      "Epoch: 3, Loss: 8.245666700601566, Training error: 8.263999999999962%, Final training error: 0.0%, Test error: 83.56%, Final test error: 34.36%\n",
      "Epoch: 4, Loss: 8.219289639219635, Training error: 8.241999999999967%, Final training error: 0.0%, Test error: 82.02%, Final test error: 34.98%\n",
      "Epoch: 5, Loss: 7.538404579460611, Training error: 7.611000000000009%, Final training error: 0.0%, Test error: 74.42%, Final test error: 37.72%\n",
      "Epoch: 6, Loss: 7.309447089768944, Training error: 7.3440000000000145%, Final training error: 0.0%, Test error: 73.45%, Final test error: 38.64%\n",
      "Epoch: 7, Loss: 7.256074363924557, Training error: 7.264000000000021%, Final training error: 0.0%, Test error: 72.98%, Final test error: 37.74%\n",
      "Epoch: 8, Loss: 7.22858197260649, Training error: 7.240000000000017%, Final training error: 0.0%, Test error: 72.9%, Final test error: 37.08%\n",
      "Epoch: 9, Loss: 7.203627529554066, Training error: 7.206000000000012%, Final training error: 0.0%, Test error: 72.89%, Final test error: 37.14%\n",
      "Epoch: 10, Loss: 7.17651350367814, Training error: 7.174000000000017%, Final training error: 0.0%, Test error: 72.9%, Final test error: 37.38%\n",
      "Epoch: 11, Loss: 7.157960240170351, Training error: 7.157000000000018%, Final training error: 0.0%, Test error: 72.67%, Final test error: 37.2%\n",
      "Epoch: 12, Loss: 7.138005844503631, Training error: 7.140000000000013%, Final training error: 0.0%, Test error: 72.6%, Final test error: 37.26%\n",
      "Epoch: 13, Loss: 7.125305990874762, Training error: 7.1260000000000145%, Final training error: 0.0%, Test error: 72.49%, Final test error: 37.74%\n",
      "Epoch: 14, Loss: 7.112613564543412, Training error: 7.098000000000013%, Final training error: 0.0%, Test error: 72.42%, Final test error: 37.74%\n",
      "Epoch: 15, Loss: 7.107301623001688, Training error: 7.094000000000017%, Final training error: 0.0%, Test error: 72.16%, Final test error: 37.42%\n",
      "Epoch: 16, Loss: 7.086863125860685, Training error: 7.06300000000001%, Final training error: 0.0%, Test error: 72.61%, Final test error: 37.62%\n",
      "Epoch: 17, Loss: 7.090903181210161, Training error: 7.07800000000001%, Final training error: 0.0%, Test error: 72.2%, Final test error: 37.32%\n",
      "Epoch: 18, Loss: 7.081560926139356, Training error: 7.068000000000013%, Final training error: 0.0%, Test error: 72.23%, Final test error: 37.32%\n",
      "Epoch: 19, Loss: 6.890923241153362, Training error: 6.894000000000021%, Final training error: 0.0%, Test error: 66.15%, Final test error: 36.96%\n",
      "Epoch: 20, Loss: 6.275110715255152, Training error: 6.2870000000000115%, Final training error: 0.0%, Test error: 66.24%, Final test error: 37.26%\n",
      "Epoch: 21, Loss: 6.212770783156155, Training error: 6.208000000000009%, Final training error: 0.0%, Test error: 64.24%, Final test error: 36.68%\n",
      "Epoch: 22, Loss: 6.18000697027891, Training error: 6.176000000000012%, Final training error: 0.0%, Test error: 64.36%, Final test error: 37.28%\n",
      "Epoch: 23, Loss: 6.1492959355935435, Training error: 6.118000000000009%, Final training error: 0.0%, Test error: 63.82%, Final test error: 36.84%\n",
      "Epoch: 24, Loss: 6.139923024550071, Training error: 6.110000000000014%, Final training error: 0.0%, Test error: 63.88%, Final test error: 36.92%\n",
      "Epoch: 25, Loss: 6.147801370359962, Training error: 6.126000000000009%, Final training error: 0.0%, Test error: 63.66%, Final test error: 36.6%\n",
      "Epoch: 26, Loss: 6.138973916880783, Training error: 6.118000000000008%, Final training error: 0.0%, Test error: 63.59%, Final test error: 36.74%\n",
      "Epoch: 27, Loss: 6.111602338589726, Training error: 6.085000000000008%, Final training error: 0.0%, Test error: 63.77%, Final test error: 36.78%\n",
      "Epoch: 28, Loss: 6.11009300276637, Training error: 6.083000000000001%, Final training error: 0.0%, Test error: 63.79%, Final test error: 37.14%\n",
      "Epoch: 29, Loss: 6.098974121734491, Training error: 6.0740000000000025%, Final training error: 0.0%, Test error: 63.75%, Final test error: 36.72%\n",
      "Epoch: 30, Loss: 6.0907703256234464, Training error: 6.060000000000006%, Final training error: 0.0%, Test error: 63.72%, Final test error: 36.88%\n",
      "Epoch: 31, Loss: 6.086972654238333, Training error: 6.061000000000007%, Final training error: 0.0%, Test error: 63.58%, Final test error: 37.18%\n",
      "Epoch: 32, Loss: 6.086247490160169, Training error: 6.063000000000007%, Final training error: 0.0%, Test error: 63.84%, Final test error: 37.18%\n",
      "Epoch: 33, Loss: 6.077952064014968, Training error: 6.047000000000006%, Final training error: 0.0%, Test error: 63.64%, Final test error: 37.06%\n",
      "Epoch: 34, Loss: 6.069877765327696, Training error: 6.047000000000008%, Final training error: 0.0%, Test error: 63.87%, Final test error: 37.08%\n",
      "Epoch: 35, Loss: 6.072343877889219, Training error: 6.054000000000005%, Final training error: 0.0%, Test error: 63.73%, Final test error: 37.06%\n",
      "Epoch: 36, Loss: 6.065924917906524, Training error: 6.037000000000005%, Final training error: 0.0%, Test error: 64.24%, Final test error: 36.52%\n",
      "Epoch: 37, Loss: 6.06116210669278, Training error: 6.039000000000008%, Final training error: 0.0%, Test error: 64.15%, Final test error: 36.7%\n",
      "Epoch: 38, Loss: 6.0655027283355665, Training error: 6.040000000000009%, Final training error: 0.0%, Test error: 64.0%, Final test error: 36.72%\n",
      "Epoch: 39, Loss: 6.074065110646175, Training error: 6.0570000000000075%, Final training error: 0.0%, Test error: 64.06%, Final test error: 37.2%\n",
      "Epoch: 40, Loss: 6.0541628131643, Training error: 6.031000000000008%, Final training error: 0.0%, Test error: 64.0%, Final test error: 37.16%\n",
      "Epoch: 41, Loss: 6.044785016216329, Training error: 6.023000000000007%, Final training error: 0.0%, Test error: 63.7%, Final test error: 36.8%\n",
      "Epoch: 42, Loss: 6.0731754675507545, Training error: 6.056000000000002%, Final training error: 0.0%, Test error: 63.84%, Final test error: 36.98%\n",
      "Epoch: 43, Loss: 6.051395246013996, Training error: 6.032000000000007%, Final training error: 0.0%, Test error: 63.7%, Final test error: 36.88%\n",
      "Epoch: 44, Loss: 6.051819396764043, Training error: 6.036000000000005%, Final training error: 0.0%, Test error: 63.92%, Final test error: 36.78%\n",
      "Epoch: 45, Loss: 6.043564480543135, Training error: 6.0300000000000065%, Final training error: 0.0%, Test error: 63.76%, Final test error: 36.54%\n",
      "Epoch: 46, Loss: 6.046288762986662, Training error: 6.026000000000006%, Final training error: 0.0%, Test error: 63.89%, Final test error: 37.16%\n",
      "Epoch: 47, Loss: 6.038199669681489, Training error: 6.021000000000007%, Final training error: 0.0%, Test error: 64.06%, Final test error: 36.82%\n",
      "Epoch: 48, Loss: 6.04697897844016, Training error: 6.027000000000007%, Final training error: 0.0%, Test error: 63.82%, Final test error: 36.84%\n",
      "Epoch: 49, Loss: 6.052001354098312, Training error: 6.049000000000008%, Final training error: 0.0%, Test error: 64.2%, Final test error: 37.12%\n"
     ]
    }
   ],
   "source": [
    "n_epochs = 50\n",
    "error_train_total_net,error_test_total_net,test_error_final = train_model(model, train_input, train_target, test_input, test_target, mini_batch_size, n_epochs,milestone=[],learning_change=0.1)"
   ]
  },
  {
   "cell_type": "code",
   "execution_count": 472,
   "metadata": {},
   "outputs": [
    {
     "ename": "AttributeError",
     "evalue": "'ModelDrop' object has no attribute 'dropout'",
     "output_type": "error",
     "traceback": [
      "\u001b[0;31m---------------------------------------------------------------------------\u001b[0m",
      "\u001b[0;31mAttributeError\u001b[0m                            Traceback (most recent call last)",
      "\u001b[0;32m<ipython-input-472-99c93b7dcb89>\u001b[0m in \u001b[0;36m<module>\u001b[0;34m\u001b[0m\n\u001b[1;32m      1\u001b[0m \u001b[0mmodel\u001b[0m\u001b[0;34m.\u001b[0m\u001b[0mtrain\u001b[0m\u001b[0;34m(\u001b[0m\u001b[0;32mFalse\u001b[0m\u001b[0;34m)\u001b[0m\u001b[0;34m\u001b[0m\u001b[0;34m\u001b[0m\u001b[0m\n\u001b[0;32m----> 2\u001b[0;31m \u001b[0mmodel\u001b[0m\u001b[0;34m.\u001b[0m\u001b[0mdropout\u001b[0m\u001b[0;34m.\u001b[0m\u001b[0mtraining\u001b[0m\u001b[0;34m\u001b[0m\u001b[0;34m\u001b[0m\u001b[0m\n\u001b[0m\u001b[1;32m      3\u001b[0m \u001b[0moutput_test\u001b[0m \u001b[0;34m=\u001b[0m \u001b[0mmodel\u001b[0m\u001b[0;34m(\u001b[0m\u001b[0mtest_input\u001b[0m\u001b[0;34m)\u001b[0m\u001b[0;34m\u001b[0m\u001b[0;34m\u001b[0m\u001b[0m\n\u001b[1;32m      4\u001b[0m \u001b[0mtest_error\u001b[0m \u001b[0;34m=\u001b[0m \u001b[0;34m(\u001b[0m\u001b[0;36m1\u001b[0m\u001b[0;34m/\u001b[0m\u001b[0mN\u001b[0m\u001b[0;34m)\u001b[0m\u001b[0;34m*\u001b[0m\u001b[0;36m50\u001b[0m\u001b[0;34m*\u001b[0m\u001b[0mcompute_nb_errors\u001b[0m\u001b[0;34m(\u001b[0m\u001b[0moutput_test\u001b[0m\u001b[0;34m,\u001b[0m \u001b[0mtest_target\u001b[0m\u001b[0;34m)\u001b[0m\u001b[0;34m\u001b[0m\u001b[0;34m\u001b[0m\u001b[0m\n\u001b[1;32m      5\u001b[0m \u001b[0mtest_error_final\u001b[0m \u001b[0;34m=\u001b[0m \u001b[0;34m(\u001b[0m\u001b[0;36m1\u001b[0m\u001b[0;34m/\u001b[0m\u001b[0mN\u001b[0m\u001b[0;34m)\u001b[0m\u001b[0;34m*\u001b[0m\u001b[0;36m100\u001b[0m\u001b[0;34m*\u001b[0m\u001b[0mcompute_errors_final\u001b[0m\u001b[0;34m(\u001b[0m\u001b[0moutput_test\u001b[0m\u001b[0;34m,\u001b[0m \u001b[0mtest_target\u001b[0m\u001b[0;34m,\u001b[0m \u001b[0;36m2\u001b[0m\u001b[0;34m*\u001b[0m\u001b[0mN\u001b[0m\u001b[0;34m)\u001b[0m\u001b[0;34m\u001b[0m\u001b[0;34m\u001b[0m\u001b[0m\n",
      "\u001b[0;32m~/anaconda3/envs/deep/lib/python3.6/site-packages/torch/nn/modules/module.py\u001b[0m in \u001b[0;36m__getattr__\u001b[0;34m(self, name)\u001b[0m\n\u001b[1;32m    533\u001b[0m                 \u001b[0;32mreturn\u001b[0m \u001b[0mmodules\u001b[0m\u001b[0;34m[\u001b[0m\u001b[0mname\u001b[0m\u001b[0;34m]\u001b[0m\u001b[0;34m\u001b[0m\u001b[0;34m\u001b[0m\u001b[0m\n\u001b[1;32m    534\u001b[0m         raise AttributeError(\"'{}' object has no attribute '{}'\".format(\n\u001b[0;32m--> 535\u001b[0;31m             type(self).__name__, name))\n\u001b[0m\u001b[1;32m    536\u001b[0m \u001b[0;34m\u001b[0m\u001b[0m\n\u001b[1;32m    537\u001b[0m     \u001b[0;32mdef\u001b[0m \u001b[0m__setattr__\u001b[0m\u001b[0;34m(\u001b[0m\u001b[0mself\u001b[0m\u001b[0;34m,\u001b[0m \u001b[0mname\u001b[0m\u001b[0;34m,\u001b[0m \u001b[0mvalue\u001b[0m\u001b[0;34m)\u001b[0m\u001b[0;34m:\u001b[0m\u001b[0;34m\u001b[0m\u001b[0;34m\u001b[0m\u001b[0m\n",
      "\u001b[0;31mAttributeError\u001b[0m: 'ModelDrop' object has no attribute 'dropout'"
     ]
    }
   ],
   "source": [
    "model.train(False)\n",
    "model.dropout.training\n",
    "output_test = model(test_input)\n",
    "test_error = (1/N)*50*compute_nb_errors(output_test, test_target)\n",
    "test_error_final = (1/N)*100*compute_errors_final(output_test, test_target, 2*N)\n",
    "\n",
    "model.train(True)\n",
    "test_error_final"
   ]
  },
  {
   "cell_type": "code",
   "execution_count": 400,
   "metadata": {},
   "outputs": [
    {
     "data": {
      "image/png": "[encoded data removed]",
      "text/plain": [
       "<Figure size 432x288 with 1 Axes>"
      ]
     },
     "metadata": {
      "needs_background": "light"
     },
     "output_type": "display_data"
    }
   ],
   "source": [
    "plt.plot(error_train_total_net)\n",
    "plt.plot(error_test_total_net)\n",
    "plt.show()"
   ]
  },
  {
   "cell_type": "markdown",
   "metadata": {},
   "source": [
    "### Third network: with two images"
   ]
  },
  {
   "cell_type": "code",
   "execution_count": 419,
   "metadata": {},
   "outputs": [],
   "source": [
    "class Comparaison(nn.Module):\n",
    "    def __init__(self):\n",
    "        super(Comparaison,self).__init__()\n",
    "        self.conv1 = nn.Conv2d(2,128,kernel_size=2)\n",
    "        self.conv2 = nn.Conv2d(128,1,kernel_size=3)\n",
    "    def forward(self, x):\n",
    "        x = self.conv1(x)\n",
    "        x = F.relu(F.max_pool2d(x,kernel_size=4))\n",
    "        x = self.conv2(x)\n",
    "        x = x.flatten()\n",
    "        return x"
   ]
  },
  {
   "cell_type": "code",
   "execution_count": 430,
   "metadata": {},
   "outputs": [],
   "source": [
    "N = 1000\n",
    "train_input, train_target_final, train_classes, test_input, test_target_final,test_classes = prologue.generate_pair_sets(N)"
   ]
  },
  {
   "cell_type": "code",
   "execution_count": 431,
   "metadata": {},
   "outputs": [],
   "source": [
    "train_input, train_target_final, test_input, test_target_final = train_input.float(), train_target_final.float(), test_input.float(), test_target_final.float()"
   ]
  },
  {
   "cell_type": "code",
   "execution_count": 432,
   "metadata": {},
   "outputs": [],
   "source": [
    "mu = train_input.mean(dim=0)\n",
    "std = train_input.std(dim=0)"
   ]
  },
  {
   "cell_type": "code",
   "execution_count": 433,
   "metadata": {},
   "outputs": [],
   "source": [
    "train_input.sub_(mu).div_(std+1)\n",
    "test_input.sub_(mu).div_(std+1);"
   ]
  },
  {
   "cell_type": "code",
   "execution_count": 436,
   "metadata": {},
   "outputs": [
    {
     "name": "stdout",
     "output_type": "stream",
     "text": [
      "Epoch: 0, Loss: 3.618346766382455, Training error: 4.469999999999998%,, Test error: 42.7%\n",
      "Epoch: 1, Loss: 2.2139418669044977, Training error: 3.32%,, Test error: 39.5%\n",
      "Epoch: 2, Loss: 1.9535735823214055, Training error: 2.9099999999999993%,, Test error: 35.9%\n",
      "Epoch: 3, Loss: 1.8229270432144404, Training error: 2.75%,, Test error: 35.1%\n",
      "Epoch: 4, Loss: 1.7421726554632184, Training error: 2.54%,, Test error: 35.0%\n",
      "Epoch: 5, Loss: 1.7032637700438504, Training error: 2.44%,, Test error: 36.5%\n",
      "Epoch: 6, Loss: 1.7160469975322488, Training error: 2.5000000000000004%,, Test error: 38.1%\n",
      "Epoch: 7, Loss: 1.7911018244922157, Training error: 2.6300000000000003%,, Test error: 37.4%\n",
      "Epoch: 8, Loss: 1.916731396690011, Training error: 2.79%,, Test error: 32.9%\n",
      "Epoch: 9, Loss: 1.965693486481905, Training error: 2.68%,, Test error: 29.1%\n",
      "Epoch: 10, Loss: 1.7831852182745938, Training error: 2.49%,, Test error: 27.5%\n",
      "Epoch: 11, Loss: 1.4439104095101354, Training error: 1.92%,, Test error: 26.900000000000002%\n",
      "Epoch: 12, Loss: 1.254706089943647, Training error: 1.5899999999999994%,, Test error: 27.900000000000002%\n",
      "Epoch: 13, Loss: 1.156082835607231, Training error: 1.3599999999999994%,, Test error: 29.0%\n",
      "Epoch: 14, Loss: 1.0871915254741908, Training error: 1.2299999999999993%,, Test error: 29.5%\n",
      "Epoch: 15, Loss: 1.0345321405678989, Training error: 1.1399999999999992%,, Test error: 30.8%\n",
      "Epoch: 16, Loss: 0.9894918365404006, Training error: 1.0399999999999996%,, Test error: 31.200000000000003%\n",
      "Epoch: 17, Loss: 0.9496150609105823, Training error: 0.9099999999999997%,, Test error: 31.900000000000002%\n",
      "Epoch: 18, Loss: 0.9140591479837898, Training error: 0.8899999999999996%,, Test error: 32.300000000000004%\n",
      "Epoch: 19, Loss: 0.881920413672924, Training error: 0.8799999999999998%,, Test error: 33.2%\n",
      "Epoch: 20, Loss: 0.8523798825219273, Training error: 0.8399999999999999%,, Test error: 33.5%\n",
      "Epoch: 21, Loss: 0.8256096009165046, Training error: 0.7799999999999998%,, Test error: 33.6%\n",
      "Epoch: 22, Loss: 0.7996557530015707, Training error: 0.7299999999999998%,, Test error: 33.7%\n",
      "Epoch: 23, Loss: 0.7763244243338703, Training error: 0.6899999999999998%,, Test error: 34.1%\n",
      "Epoch: 24, Loss: 0.7534886999055743, Training error: 0.6699999999999999%,, Test error: 34.1%\n",
      "Epoch: 25, Loss: 0.729348325356841, Training error: 0.6399999999999998%,, Test error: 34.300000000000004%\n",
      "Epoch: 26, Loss: 0.7076191373169424, Training error: 0.5799999999999997%,, Test error: 34.1%\n",
      "Epoch: 27, Loss: 0.6850338755175471, Training error: 0.5399999999999998%,, Test error: 34.0%\n",
      "Epoch: 28, Loss: 0.6646665167063477, Training error: 0.4999999999999998%,, Test error: 33.800000000000004%\n",
      "Epoch: 29, Loss: 0.6452522531151771, Training error: 0.4799999999999998%,, Test error: 33.6%\n",
      "Epoch: 30, Loss: 0.6267468647100034, Training error: 0.45999999999999996%,, Test error: 33.800000000000004%\n",
      "Epoch: 31, Loss: 0.6080214085988704, Training error: 0.44000000000000006%,, Test error: 33.6%\n",
      "Epoch: 32, Loss: 0.5909383046440779, Training error: 0.42000000000000015%,, Test error: 34.1%\n",
      "Epoch: 33, Loss: 0.5743123034015297, Training error: 0.41000000000000014%,, Test error: 34.800000000000004%\n",
      "Epoch: 34, Loss: 0.5581524153240025, Training error: 0.35000000000000014%,, Test error: 35.300000000000004%\n",
      "Epoch: 35, Loss: 0.5433930746279657, Training error: 0.3200000000000001%,, Test error: 35.9%\n",
      "Epoch: 36, Loss: 0.5292577398940922, Training error: 0.3100000000000001%,, Test error: 36.300000000000004%\n",
      "Epoch: 37, Loss: 0.5151090325787665, Training error: 0.2800000000000001%,, Test error: 36.7%\n",
      "Epoch: 38, Loss: 0.5006197672337294, Training error: 0.28000000000000014%,, Test error: 37.1%\n",
      "Epoch: 39, Loss: 0.49243652010336525, Training error: 0.2700000000000001%,, Test error: 37.2%\n",
      "Epoch: 40, Loss: 0.4856436766684055, Training error: 0.24000000000000005%,, Test error: 36.4%\n",
      "Epoch: 41, Loss: 0.5098009856417772, Training error: 0.26000000000000006%,, Test error: 37.7%\n",
      "Epoch: 42, Loss: 0.561121850647032, Training error: 0.3100000000000001%,, Test error: 35.800000000000004%\n",
      "Epoch: 43, Loss: 0.6946249373257157, Training error: 0.5499999999999997%,, Test error: 38.2%\n",
      "Epoch: 44, Loss: 0.6504757201299073, Training error: 0.44000000000000006%,, Test error: 39.400000000000006%\n",
      "Epoch: 45, Loss: 0.6788173811510206, Training error: 0.5699999999999997%,, Test error: 44.400000000000006%\n",
      "Epoch: 46, Loss: 0.6145528888329864, Training error: 0.4300000000000001%,, Test error: 43.900000000000006%\n",
      "Epoch: 47, Loss: 0.6282007816247639, Training error: 0.42000000000000015%,, Test error: 36.0%\n",
      "Epoch: 48, Loss: 0.7551898360252381, Training error: 0.6300000000000002%,, Test error: 32.300000000000004%\n",
      "Epoch: 49, Loss: 0.9500971523113548, Training error: 1.02%,, Test error: 43.7%\n",
      "Epoch: 50, Loss: 0.7794931298121811, Training error: 0.71%,, Test error: 28.5%\n",
      "Epoch: 51, Loss: 0.6063621724024417, Training error: 0.44000000000000006%,, Test error: 28.8%\n",
      "Epoch: 52, Loss: 0.5634562001563611, Training error: 0.3300000000000001%,, Test error: 28.700000000000003%\n",
      "Epoch: 53, Loss: 0.5358826878480615, Training error: 0.2900000000000001%,, Test error: 28.5%\n",
      "Epoch: 54, Loss: 0.5145426776260139, Training error: 0.2500000000000001%,, Test error: 28.200000000000003%\n",
      "Epoch: 55, Loss: 0.497044867835939, Training error: 0.20000000000000007%,, Test error: 28.3%\n",
      "Epoch: 56, Loss: 0.4822620453312992, Training error: 0.16000000000000003%,, Test error: 28.200000000000003%\n",
      "Epoch: 57, Loss: 0.46949404357001195, Training error: 0.14%,, Test error: 28.0%\n",
      "Epoch: 58, Loss: 0.45838494654744844, Training error: 0.13%,, Test error: 28.0%\n",
      "Epoch: 59, Loss: 0.4484972571022808, Training error: 0.10999999999999999%,, Test error: 28.0%\n",
      "Epoch: 60, Loss: 0.43958461638540014, Training error: 0.09%,, Test error: 28.1%\n",
      "Epoch: 61, Loss: 0.43150751851499075, Training error: 0.09%,, Test error: 28.0%\n",
      "Epoch: 62, Loss: 0.4241125467233361, Training error: 0.06999999999999999%,, Test error: 27.900000000000002%\n",
      "Epoch: 63, Loss: 0.4173087301664053, Training error: 0.06999999999999999%,, Test error: 27.900000000000002%\n",
      "Epoch: 64, Loss: 0.4110408267937601, Training error: 0.06999999999999999%,, Test error: 27.700000000000003%\n",
      "Epoch: 65, Loss: 0.4051953810267151, Training error: 0.06999999999999999%,, Test error: 27.700000000000003%\n",
      "Epoch: 66, Loss: 0.39974224986508483, Training error: 0.06999999999999999%,, Test error: 27.900000000000002%\n",
      "Epoch: 67, Loss: 0.3945479743182658, Training error: 0.06%,, Test error: 27.6%\n",
      "Epoch: 68, Loss: 0.38964446727186447, Training error: 0.05%,, Test error: 27.900000000000002%\n",
      "Epoch: 69, Loss: 0.38498198268935085, Training error: 0.05%,, Test error: 28.1%\n",
      "Epoch: 70, Loss: 0.3805289122276007, Training error: 0.05%,, Test error: 28.1%\n",
      "Epoch: 71, Loss: 0.3763042185455561, Training error: 0.05%,, Test error: 28.0%\n",
      "Epoch: 72, Loss: 0.37225053096190075, Training error: 0.05%,, Test error: 28.0%\n",
      "Epoch: 73, Loss: 0.36838761605322384, Training error: 0.04000000000000001%,, Test error: 28.0%\n",
      "Epoch: 74, Loss: 0.3646480162627994, Training error: 0.04000000000000001%,, Test error: 28.1%\n",
      "Epoch: 75, Loss: 0.36111641330644484, Training error: 0.04000000000000001%,, Test error: 28.1%\n",
      "Epoch: 76, Loss: 0.35764914695173516, Training error: 0.04000000000000001%,, Test error: 28.1%\n",
      "Epoch: 77, Loss: 0.35428944062441575, Training error: 0.04000000000000001%,, Test error: 28.1%\n",
      "Epoch: 78, Loss: 0.35104322787374254, Training error: 0.04000000000000001%,, Test error: 28.1%\n",
      "Epoch: 79, Loss: 0.3478856804780661, Training error: 0.04000000000000001%,, Test error: 28.200000000000003%\n",
      "Epoch: 80, Loss: 0.344865976087749, Training error: 0.030000000000000006%,, Test error: 28.200000000000003%\n",
      "Epoch: 81, Loss: 0.3419286470860242, Training error: 0.030000000000000006%,, Test error: 28.3%\n",
      "Epoch: 82, Loss: 0.3390768388286233, Training error: 0.030000000000000006%,, Test error: 28.200000000000003%\n",
      "Epoch: 83, Loss: 0.3363472026772798, Training error: 0.030000000000000006%,, Test error: 28.200000000000003%\n",
      "Epoch: 84, Loss: 0.33364460179582267, Training error: 0.030000000000000006%,, Test error: 28.200000000000003%\n",
      "Epoch: 85, Loss: 0.3310044696554542, Training error: 0.030000000000000006%,, Test error: 28.1%\n",
      "Epoch: 86, Loss: 0.3284016501158476, Training error: 0.030000000000000006%,, Test error: 28.1%\n",
      "Epoch: 87, Loss: 0.32590643586590895, Training error: 0.020000000000000004%,, Test error: 28.1%\n",
      "Epoch: 88, Loss: 0.32341185230761776, Training error: 0.020000000000000004%,, Test error: 28.1%\n",
      "Epoch: 89, Loss: 0.3209672327153384, Training error: 0.020000000000000004%,, Test error: 28.0%\n",
      "Epoch: 90, Loss: 0.3185898423194886, Training error: 0.020000000000000004%,, Test error: 28.200000000000003%\n",
      "Epoch: 91, Loss: 0.31623046929016724, Training error: 0.020000000000000004%,, Test error: 28.400000000000002%\n",
      "Epoch: 92, Loss: 0.31392985470592966, Training error: 0.010000000000000002%,, Test error: 28.400000000000002%\n",
      "Epoch: 93, Loss: 0.31165284183807673, Training error: 0.010000000000000002%,, Test error: 28.6%\n",
      "Epoch: 94, Loss: 0.30935867684893315, Training error: 0.010000000000000002%,, Test error: 28.700000000000003%\n",
      "Epoch: 95, Loss: 0.30713497116230437, Training error: 0.010000000000000002%,, Test error: 28.700000000000003%\n",
      "Epoch: 96, Loss: 0.30493449685163804, Training error: 0.010000000000000002%,, Test error: 28.700000000000003%\n",
      "Epoch: 97, Loss: 0.30275169243104755, Training error: 0.010000000000000002%,, Test error: 28.8%\n",
      "Epoch: 98, Loss: 0.3006545811425894, Training error: 0.010000000000000002%,, Test error: 28.900000000000002%\n",
      "Epoch: 99, Loss: 0.2985295431688429, Training error: 0.010000000000000002%,, Test error: 29.0%\n"
     ]
    }
   ],
   "source": [
    "model, criterion,  = Comparaison(), nn.MSELoss()\n",
    "eta, mini_batch_size = 1e-3, 10\n",
    "optimizer = torch.optim.Adam(model.parameters(), lr=eta)\n",
    "n_epochs = 100\n",
    "e_tr_t, e_te_t = train_model_2_images(model, train_input, train_target_final, test_input, test_target_final, mini_batch_size, n_epochs,[50],0.1)"
   ]
  },
  {
   "cell_type": "code",
   "execution_count": 437,
   "metadata": {},
   "outputs": [
    {
     "data": {
      "image/png": "[encoded data removed]",
      "text/plain": [
       "<Figure size 432x288 with 1 Axes>"
      ]
     },
     "metadata": {
      "needs_background": "light"
     },
     "output_type": "display_data"
    }
   ],
   "source": [
    "plt.plot(e_tr_t)\n",
    "plt.plot(e_te_t)\n",
    "plt.show()"
   ]
  },
  {
   "cell_type": "code",
   "execution_count": 426,
   "metadata": {},
   "outputs": [
    {
     "ename": "RuntimeError",
     "evalue": "shape '[5000, 2, 10]' is invalid for input of size 5000",
     "output_type": "error",
     "traceback": [
      "\u001b[0;31m---------------------------------------------------------------------------\u001b[0m",
      "\u001b[0;31mRuntimeError\u001b[0m                              Traceback (most recent call last)",
      "\u001b[0;32m<ipython-input-426-c22c8299e1df>\u001b[0m in \u001b[0;36m<module>\u001b[0;34m\u001b[0m\n\u001b[0;32m----> 1\u001b[0;31m \u001b[0me_tr_t2\u001b[0m\u001b[0;34m,\u001b[0m \u001b[0me_te_t2\u001b[0m \u001b[0;34m=\u001b[0m \u001b[0mtrain_model\u001b[0m\u001b[0;34m(\u001b[0m\u001b[0mmodel\u001b[0m\u001b[0;34m,\u001b[0m \u001b[0mtrain_input\u001b[0m\u001b[0;34m,\u001b[0m \u001b[0mtrain_target_final\u001b[0m\u001b[0;34m,\u001b[0m \u001b[0mtest_input\u001b[0m\u001b[0;34m,\u001b[0m \u001b[0mtest_target_final\u001b[0m\u001b[0;34m,\u001b[0m \u001b[0mmini_batch_size\u001b[0m\u001b[0;34m,\u001b[0m \u001b[0;36m100\u001b[0m\u001b[0;34m)\u001b[0m\u001b[0;34m\u001b[0m\u001b[0;34m\u001b[0m\u001b[0m\n\u001b[0m",
      "\u001b[0;32m<ipython-input-415-99eb172c99b9>\u001b[0m in \u001b[0;36mtrain_model\u001b[0;34m(model, train_input, train_target, test_input, test_target, mini_batch_size, n_epochs, milestone, learning_change)\u001b[0m\n\u001b[1;32m     26\u001b[0m         \u001b[0merror_test_total\u001b[0m\u001b[0;34m.\u001b[0m\u001b[0mappend\u001b[0m\u001b[0;34m(\u001b[0m\u001b[0;34m(\u001b[0m\u001b[0;36m1\u001b[0m\u001b[0;34m/\u001b[0m\u001b[0mN\u001b[0m\u001b[0;34m)\u001b[0m\u001b[0;34m*\u001b[0m\u001b[0;36m50\u001b[0m\u001b[0;34m*\u001b[0m\u001b[0mtest_error\u001b[0m\u001b[0;34m)\u001b[0m\u001b[0;34m\u001b[0m\u001b[0;34m\u001b[0m\u001b[0m\n\u001b[1;32m     27\u001b[0m         \u001b[0merror_train_total\u001b[0m\u001b[0;34m.\u001b[0m\u001b[0mappend\u001b[0m\u001b[0;34m(\u001b[0m\u001b[0;34m(\u001b[0m\u001b[0;36m1\u001b[0m\u001b[0;34m/\u001b[0m\u001b[0mN\u001b[0m\u001b[0;34m)\u001b[0m\u001b[0;34m*\u001b[0m\u001b[0;36m50\u001b[0m\u001b[0;34m*\u001b[0m\u001b[0msum_error\u001b[0m\u001b[0;34m)\u001b[0m\u001b[0;34m\u001b[0m\u001b[0;34m\u001b[0m\u001b[0m\n\u001b[0;32m---> 28\u001b[0;31m         \u001b[0mtest_error_final\u001b[0m \u001b[0;34m=\u001b[0m \u001b[0mcompute_errors_final\u001b[0m\u001b[0;34m(\u001b[0m\u001b[0moutput_test\u001b[0m\u001b[0;34m,\u001b[0m \u001b[0mtest_target\u001b[0m\u001b[0;34m,\u001b[0m \u001b[0;36m2\u001b[0m\u001b[0;34m*\u001b[0m\u001b[0mN\u001b[0m\u001b[0;34m)\u001b[0m\u001b[0;34m\u001b[0m\u001b[0;34m\u001b[0m\u001b[0m\n\u001b[0m\u001b[1;32m     29\u001b[0m         \u001b[0mprint\u001b[0m\u001b[0;34m(\u001b[0m\u001b[0;34m'Epoch: {}, Loss: {}, Training error: {}%, Final training error: {}%, Test error: {}%, Final test error: {}%'\u001b[0m\u001b[0;34m.\u001b[0m\u001b[0mformat\u001b[0m\u001b[0;34m(\u001b[0m\u001b[0me\u001b[0m\u001b[0;34m,\u001b[0m \u001b[0msum_loss\u001b[0m\u001b[0;34m,\u001b[0m \u001b[0;36m50\u001b[0m\u001b[0;34m*\u001b[0m\u001b[0msum_error\u001b[0m\u001b[0;34m/\u001b[0m\u001b[0mN\u001b[0m\u001b[0;34m,\u001b[0m \u001b[0;36m100\u001b[0m\u001b[0;34m*\u001b[0m\u001b[0msum_error_final\u001b[0m\u001b[0;34m/\u001b[0m\u001b[0mN\u001b[0m\u001b[0;34m,\u001b[0m \u001b[0;36m50\u001b[0m\u001b[0;34m*\u001b[0m\u001b[0mtest_error\u001b[0m\u001b[0;34m/\u001b[0m\u001b[0mN\u001b[0m\u001b[0;34m,\u001b[0m \u001b[0;36m100\u001b[0m\u001b[0;34m*\u001b[0m\u001b[0mtest_error_final\u001b[0m\u001b[0;34m/\u001b[0m\u001b[0mN\u001b[0m\u001b[0;34m)\u001b[0m\u001b[0;34m)\u001b[0m\u001b[0;34m\u001b[0m\u001b[0;34m\u001b[0m\u001b[0m\n\u001b[1;32m     30\u001b[0m         \u001b[0;31m#if (e %1 == 0):\u001b[0m\u001b[0;34m\u001b[0m\u001b[0;34m\u001b[0m\u001b[0;34m\u001b[0m\u001b[0m\n",
      "\u001b[0;32m<ipython-input-414-30485b171de4>\u001b[0m in \u001b[0;36mcompute_errors_final\u001b[0;34m(output, target, mini_batch_size)\u001b[0m\n\u001b[1;32m      1\u001b[0m \u001b[0;32mdef\u001b[0m \u001b[0mcompute_errors_final\u001b[0m\u001b[0;34m(\u001b[0m\u001b[0moutput\u001b[0m\u001b[0;34m,\u001b[0m \u001b[0mtarget\u001b[0m\u001b[0;34m,\u001b[0m \u001b[0mmini_batch_size\u001b[0m\u001b[0;34m)\u001b[0m\u001b[0;34m:\u001b[0m\u001b[0;34m\u001b[0m\u001b[0;34m\u001b[0m\u001b[0m\n\u001b[0;32m----> 2\u001b[0;31m     \u001b[0moutput_classes\u001b[0m \u001b[0;34m=\u001b[0m \u001b[0moutput\u001b[0m\u001b[0;34m.\u001b[0m\u001b[0mreshape\u001b[0m\u001b[0;34m(\u001b[0m\u001b[0;34m(\u001b[0m\u001b[0mmini_batch_size\u001b[0m\u001b[0;34m//\u001b[0m\u001b[0;36m2\u001b[0m\u001b[0;34m,\u001b[0m \u001b[0;36m2\u001b[0m\u001b[0;34m,\u001b[0m \u001b[0;36m10\u001b[0m\u001b[0;34m)\u001b[0m\u001b[0;34m)\u001b[0m\u001b[0;34m.\u001b[0m\u001b[0margmax\u001b[0m\u001b[0;34m(\u001b[0m\u001b[0mdim\u001b[0m\u001b[0;34m=\u001b[0m\u001b[0;36m2\u001b[0m\u001b[0;34m)\u001b[0m\u001b[0;34m\u001b[0m\u001b[0;34m\u001b[0m\u001b[0m\n\u001b[0m\u001b[1;32m      3\u001b[0m     \u001b[0mtarget_classes\u001b[0m \u001b[0;34m=\u001b[0m \u001b[0mtarget\u001b[0m\u001b[0;34m.\u001b[0m\u001b[0mreshape\u001b[0m\u001b[0;34m(\u001b[0m\u001b[0;34m(\u001b[0m\u001b[0mmini_batch_size\u001b[0m\u001b[0;34m//\u001b[0m\u001b[0;36m2\u001b[0m\u001b[0;34m,\u001b[0m \u001b[0;36m2\u001b[0m\u001b[0;34m,\u001b[0m \u001b[0;36m10\u001b[0m\u001b[0;34m)\u001b[0m\u001b[0;34m)\u001b[0m\u001b[0;34m.\u001b[0m\u001b[0margmax\u001b[0m\u001b[0;34m(\u001b[0m\u001b[0mdim\u001b[0m\u001b[0;34m=\u001b[0m\u001b[0;36m2\u001b[0m\u001b[0;34m)\u001b[0m\u001b[0;34m\u001b[0m\u001b[0;34m\u001b[0m\u001b[0m\n\u001b[1;32m      4\u001b[0m     \u001b[0mfinal_output\u001b[0m \u001b[0;34m=\u001b[0m \u001b[0;34m(\u001b[0m\u001b[0moutput_classes\u001b[0m\u001b[0;34m[\u001b[0m\u001b[0;34m:\u001b[0m\u001b[0;34m,\u001b[0m\u001b[0;36m0\u001b[0m\u001b[0;34m]\u001b[0m \u001b[0;34m<=\u001b[0m \u001b[0moutput_classes\u001b[0m\u001b[0;34m[\u001b[0m\u001b[0;34m:\u001b[0m\u001b[0;34m,\u001b[0m\u001b[0;36m1\u001b[0m\u001b[0;34m]\u001b[0m\u001b[0;34m)\u001b[0m\u001b[0;34m\u001b[0m\u001b[0;34m\u001b[0m\u001b[0m\n\u001b[1;32m      5\u001b[0m     \u001b[0mfinal_target\u001b[0m \u001b[0;34m=\u001b[0m \u001b[0;34m(\u001b[0m\u001b[0mtarget_classes\u001b[0m\u001b[0;34m[\u001b[0m\u001b[0;34m:\u001b[0m\u001b[0;34m,\u001b[0m\u001b[0;36m0\u001b[0m\u001b[0;34m]\u001b[0m \u001b[0;34m<=\u001b[0m \u001b[0mtarget_classes\u001b[0m\u001b[0;34m[\u001b[0m\u001b[0;34m:\u001b[0m\u001b[0;34m,\u001b[0m\u001b[0;36m1\u001b[0m\u001b[0;34m]\u001b[0m\u001b[0;34m)\u001b[0m\u001b[0;34m\u001b[0m\u001b[0;34m\u001b[0m\u001b[0m\n",
      "\u001b[0;31mRuntimeError\u001b[0m: shape '[5000, 2, 10]' is invalid for input of size 5000"
     ]
    }
   ],
   "source": [
    "e_tr_t2, e_te_t2 = train_model(model, train_input, train_target_final, test_input, test_target_final, mini_batch_size, 100)"
   ]
  },
  {
   "cell_type": "code",
   "execution_count": 106,
   "metadata": {},
   "outputs": [],
   "source": [
    "e_tr_t += e_tr_t2\n",
    "e_te_t += e_te_t2"
   ]
  },
  {
   "cell_type": "markdown",
   "metadata": {},
   "source": [
    "### Fourth network: with two images"
   ]
  },
  {
   "cell_type": "code",
   "execution_count": 146,
   "metadata": {},
   "outputs": [],
   "source": [
    "class Comparaison2(nn.Module):\n",
    "    def __init__(self):\n",
    "        super(Comparaison2, self).__init__()\n",
    "        self.conv1 = nn.Conv2d(2, 8, kernel_size=3)\n",
    "        self.conv2 = nn.Conv2d(8, 16, kernel_size=3)\n",
    "        self.fc1 = nn.Linear(64, 20)\n",
    "        self.fc2 = nn.Linear(20, 1)\n",
    "\n",
    "    def forward(self, x):\n",
    "        x = F.relu(F.max_pool2d(self.conv1(x), kernel_size=2, stride=2))\n",
    "        x = F.relu(F.max_pool2d(self.conv2(x), kernel_size=2))\n",
    "        x = F.relu(self.fc1(x.view(-1, 64)))\n",
    "        x = self.fc2(x)\n",
    "        x = x.flatten()\n",
    "        return x"
   ]
  },
  {
   "cell_type": "code",
   "execution_count": 213,
   "metadata": {},
   "outputs": [],
   "source": [
    "N = 5000\n",
    "train_input, train_target_final, train_classes, test_input, test_target_final,test_classes = prologue.generate_pair_sets(N)\n",
    "train_input, train_target_final, test_input, test_target_final = train_input.float(), train_target_final.float(), test_input.float(), test_target_final.float()\n",
    "\n",
    "mu = train_input.mean(dim=0)\n",
    "std = train_input.std(dim=0)\n",
    "\n",
    "train_input.sub_(mu).div_(std+1)\n",
    "test_input.sub_(mu).div_(std+1);"
   ]
  },
  {
   "cell_type": "code",
   "execution_count": 215,
   "metadata": {},
   "outputs": [
    {
     "name": "stdout",
     "output_type": "stream",
     "text": [
      "Epoch: 0, Loss: 9.969507745653393, Training error: 3.04%,, Test error: 22.400000000000002%\n",
      "Epoch: 1, Loss: 7.787267778441308, Training error: 2.139999999999999%,, Test error: 20.26%\n",
      "Epoch: 2, Loss: 7.230810284800827, Training error: 1.9240000000000002%,, Test error: 18.68%\n",
      "Epoch: 3, Loss: 6.7456429040059405, Training error: 1.7820000000000016%,, Test error: 18.68%\n",
      "Epoch: 4, Loss: 6.5633667634800075, Training error: 1.7220000000000022%,, Test error: 19.44%\n",
      "Epoch: 5, Loss: 5.53071109466254, Training error: 1.4060000000000046%,, Test error: 17.38%\n",
      "Epoch: 6, Loss: 5.287486753147091, Training error: 1.310000000000006%,, Test error: 17.16%\n",
      "Epoch: 7, Loss: 5.189772662892936, Training error: 1.2820000000000058%,, Test error: 17.2%\n",
      "Epoch: 8, Loss: 5.113466567732393, Training error: 1.2720000000000062%,, Test error: 17.34%\n",
      "Epoch: 9, Loss: 5.046294113900512, Training error: 1.2220000000000062%,, Test error: 17.12%\n",
      "Epoch: 10, Loss: 4.980012051668012, Training error: 1.214000000000006%,, Test error: 16.84%\n",
      "Epoch: 11, Loss: 4.921642772480843, Training error: 1.1880000000000057%,, Test error: 16.82%\n",
      "Epoch: 12, Loss: 4.869456116203217, Training error: 1.180000000000006%,, Test error: 16.64%\n",
      "Epoch: 13, Loss: 4.809982877410948, Training error: 1.1460000000000061%,, Test error: 16.6%\n",
      "Epoch: 14, Loss: 4.766092576552188, Training error: 1.1320000000000057%,, Test error: 16.76%\n",
      "Epoch: 15, Loss: 4.68444727994502, Training error: 1.132000000000006%,, Test error: 16.54%\n",
      "Epoch: 16, Loss: 4.540500808879734, Training error: 1.1180000000000054%,, Test error: 16.66%\n",
      "Epoch: 17, Loss: 4.4221529144095255, Training error: 1.1040000000000059%,, Test error: 16.54%\n",
      "Epoch: 18, Loss: 4.345746080693788, Training error: 1.0940000000000056%,, Test error: 16.86%\n",
      "Epoch: 19, Loss: 4.278814066085032, Training error: 1.0640000000000052%,, Test error: 16.76%\n",
      "Epoch: 20, Loss: 4.213875751127491, Training error: 1.042000000000005%,, Test error: 16.78%\n",
      "Epoch: 21, Loss: 4.1574226548429545, Training error: 1.0280000000000054%,, Test error: 16.740000000000002%\n",
      "Epoch: 22, Loss: 4.095865348400547, Training error: 1.032000000000005%,, Test error: 16.78%\n",
      "Epoch: 23, Loss: 4.045041881711226, Training error: 0.9940000000000048%,, Test error: 16.72%\n",
      "Epoch: 24, Loss: 3.9941020737169315, Training error: 0.9840000000000046%,, Test error: 16.76%\n",
      "Epoch: 25, Loss: 3.7666916199959837, Training error: 0.924000000000004%,, Test error: 16.92%\n",
      "Epoch: 26, Loss: 3.7307756566209767, Training error: 0.9180000000000041%,, Test error: 16.86%\n",
      "Epoch: 27, Loss: 3.714257146709135, Training error: 0.914000000000004%,, Test error: 16.84%\n",
      "Epoch: 28, Loss: 3.7016365283401704, Training error: 0.9140000000000041%,, Test error: 16.84%\n",
      "Epoch: 29, Loss: 3.690870848065241, Training error: 0.9160000000000043%,, Test error: 16.8%\n",
      "Epoch: 30, Loss: 3.6810630800668145, Training error: 0.9120000000000044%,, Test error: 16.78%\n",
      "Epoch: 31, Loss: 3.67231026516529, Training error: 0.9160000000000044%,, Test error: 16.740000000000002%\n",
      "Epoch: 32, Loss: 3.6633140336605723, Training error: 0.9120000000000041%,, Test error: 16.740000000000002%\n",
      "Epoch: 33, Loss: 3.6545143113122336, Training error: 0.9100000000000041%,, Test error: 16.76%\n",
      "Epoch: 34, Loss: 3.646991413121576, Training error: 0.8980000000000042%,, Test error: 16.78%\n",
      "Epoch: 35, Loss: 3.64007315735798, Training error: 0.8980000000000041%,, Test error: 16.740000000000002%\n",
      "Epoch: 36, Loss: 3.6332079234067347, Training error: 0.890000000000004%,, Test error: 16.8%\n",
      "Epoch: 37, Loss: 3.6267049520043684, Training error: 0.892000000000004%,, Test error: 16.76%\n",
      "Epoch: 38, Loss: 3.619437476317399, Training error: 0.892000000000004%,, Test error: 16.82%\n",
      "Epoch: 39, Loss: 3.6132371861487638, Training error: 0.894000000000004%,, Test error: 16.84%\n",
      "Epoch: 40, Loss: 3.6066616230527875, Training error: 0.8960000000000041%,, Test error: 16.82%\n",
      "Epoch: 41, Loss: 3.600017864047548, Training error: 0.8960000000000041%,, Test error: 16.8%\n",
      "Epoch: 42, Loss: 3.593205388635397, Training error: 0.8980000000000041%,, Test error: 16.8%\n",
      "Epoch: 43, Loss: 3.58717714282684, Training error: 0.888000000000004%,, Test error: 16.8%\n",
      "Epoch: 44, Loss: 3.581414247618523, Training error: 0.8820000000000039%,, Test error: 16.86%\n",
      "Epoch: 45, Loss: 3.575603025767484, Training error: 0.8860000000000039%,, Test error: 16.9%\n",
      "Epoch: 46, Loss: 3.5700511157163435, Training error: 0.8820000000000038%,, Test error: 16.9%\n",
      "Epoch: 47, Loss: 3.5647832916118194, Training error: 0.8800000000000037%,, Test error: 16.9%\n",
      "Epoch: 48, Loss: 3.559792918816674, Training error: 0.8740000000000038%,, Test error: 16.9%\n",
      "Epoch: 49, Loss: 3.5538344503496777, Training error: 0.8720000000000038%,, Test error: 16.9%\n",
      "Epoch: 50, Loss: 3.54853048463119, Training error: 0.8680000000000037%,, Test error: 16.88%\n",
      "Epoch: 51, Loss: 3.5433624417288248, Training error: 0.8640000000000037%,, Test error: 16.86%\n",
      "Epoch: 52, Loss: 3.537631381861863, Training error: 0.8620000000000037%,, Test error: 16.94%\n",
      "Epoch: 53, Loss: 3.531895795534367, Training error: 0.8540000000000035%,, Test error: 16.98%\n",
      "Epoch: 54, Loss: 3.526463684963529, Training error: 0.8540000000000035%,, Test error: 16.98%\n",
      "Epoch: 55, Loss: 3.5212383069680113, Training error: 0.8540000000000035%,, Test error: 17.0%\n",
      "Epoch: 56, Loss: 3.5154072887031336, Training error: 0.8540000000000035%,, Test error: 17.0%\n",
      "Epoch: 57, Loss: 3.5106619619647903, Training error: 0.8520000000000034%,, Test error: 16.98%\n",
      "Epoch: 58, Loss: 3.505969420156907, Training error: 0.8500000000000034%,, Test error: 16.94%\n",
      "Epoch: 59, Loss: 3.501182603056077, Training error: 0.8440000000000033%,, Test error: 16.92%\n",
      "Epoch: 60, Loss: 3.496772702271116, Training error: 0.8420000000000033%,, Test error: 16.94%\n",
      "Epoch: 61, Loss: 3.4914492305950198, Training error: 0.8420000000000033%,, Test error: 16.94%\n",
      "Epoch: 62, Loss: 3.4874952751677513, Training error: 0.8460000000000034%,, Test error: 16.88%\n",
      "Epoch: 63, Loss: 3.482159438042438, Training error: 0.8400000000000034%,, Test error: 16.86%\n",
      "Epoch: 64, Loss: 3.4754933084012016, Training error: 0.8400000000000034%,, Test error: 16.86%\n",
      "Epoch: 65, Loss: 3.470724783360492, Training error: 0.8400000000000034%,, Test error: 16.82%\n",
      "Epoch: 66, Loss: 3.4648577246232892, Training error: 0.8420000000000034%,, Test error: 16.8%\n",
      "Epoch: 67, Loss: 3.459625675587449, Training error: 0.8420000000000033%,, Test error: 16.82%\n",
      "Epoch: 68, Loss: 3.454473148810211, Training error: 0.8460000000000034%,, Test error: 16.78%\n",
      "Epoch: 69, Loss: 3.449840619124009, Training error: 0.8440000000000033%,, Test error: 16.78%\n",
      "Epoch: 70, Loss: 3.4451203282456855, Training error: 0.8480000000000034%,, Test error: 16.8%\n",
      "Epoch: 71, Loss: 3.440345983183942, Training error: 0.8500000000000034%,, Test error: 16.76%\n",
      "Epoch: 72, Loss: 3.4352424204582337, Training error: 0.8440000000000033%,, Test error: 16.8%\n",
      "Epoch: 73, Loss: 3.429957341018598, Training error: 0.8440000000000033%,, Test error: 16.78%\n",
      "Epoch: 74, Loss: 3.4254392048809663, Training error: 0.8360000000000032%,, Test error: 16.78%\n",
      "Epoch: 75, Loss: 3.4211989064235246, Training error: 0.8340000000000032%,, Test error: 16.8%\n",
      "Epoch: 76, Loss: 3.4161692348774517, Training error: 0.8300000000000033%,, Test error: 16.8%\n",
      "Epoch: 77, Loss: 3.4120512311696096, Training error: 0.8340000000000032%,, Test error: 16.8%\n",
      "Epoch: 78, Loss: 3.4079587179119675, Training error: 0.8320000000000032%,, Test error: 16.78%\n",
      "Epoch: 79, Loss: 3.4033164062537256, Training error: 0.8240000000000032%,, Test error: 16.8%\n",
      "Epoch: 80, Loss: 3.399234955699648, Training error: 0.8260000000000031%,, Test error: 16.78%\n",
      "Epoch: 81, Loss: 3.395233607396949, Training error: 0.8240000000000031%,, Test error: 16.78%\n",
      "Epoch: 82, Loss: 3.391305096005085, Training error: 0.8220000000000031%,, Test error: 16.76%\n",
      "Epoch: 83, Loss: 3.386769715801349, Training error: 0.820000000000003%,, Test error: 16.76%\n",
      "Epoch: 84, Loss: 3.3828676177654415, Training error: 0.816000000000003%,, Test error: 16.78%\n",
      "Epoch: 85, Loss: 3.37806425553281, Training error: 0.818000000000003%,, Test error: 16.72%\n",
      "Epoch: 86, Loss: 3.374591380800121, Training error: 0.8200000000000032%,, Test error: 16.72%\n",
      "Epoch: 87, Loss: 3.36962096260395, Training error: 0.8240000000000032%,, Test error: 16.78%\n",
      "Epoch: 88, Loss: 3.365886609943117, Training error: 0.8240000000000032%,, Test error: 16.76%\n",
      "Epoch: 89, Loss: 3.3614692082512203, Training error: 0.8240000000000034%,, Test error: 16.740000000000002%\n",
      "Epoch: 90, Loss: 3.3582773246685975, Training error: 0.8260000000000032%,, Test error: 16.78%\n",
      "Epoch: 91, Loss: 3.354477303242309, Training error: 0.8260000000000032%,, Test error: 16.78%\n",
      "Epoch: 92, Loss: 3.349257245555054, Training error: 0.8200000000000032%,, Test error: 16.76%\n",
      "Epoch: 93, Loss: 3.3456038225675004, Training error: 0.8200000000000032%,, Test error: 16.7%\n",
      "Epoch: 94, Loss: 3.3410612400155517, Training error: 0.8160000000000033%,, Test error: 16.78%\n",
      "Epoch: 95, Loss: 3.3370069925091235, Training error: 0.8200000000000033%,, Test error: 16.78%\n",
      "Epoch: 96, Loss: 3.3342052588821405, Training error: 0.8220000000000033%,, Test error: 16.82%\n",
      "Epoch: 97, Loss: 3.329369199136267, Training error: 0.8240000000000034%,, Test error: 16.76%\n",
      "Epoch: 98, Loss: 3.3248293839860685, Training error: 0.8220000000000033%,, Test error: 16.76%\n",
      "Epoch: 99, Loss: 3.3202601752127507, Training error: 0.8200000000000033%,, Test error: 16.82%\n"
     ]
    }
   ],
   "source": [
    "model, criterion,  = Comparaison2(), nn.MSELoss()\n",
    "eta, mini_batch_size = 1e-2, 10\n",
    "optimizer = torch.optim.Adam(model.parameters(), lr=eta)\n",
    "n_epochs = 100\n",
    "e_tr_t, e_te_t = train_model(model, train_input, train_target_final, test_input, test_target_final, mini_batch_size, n_epochs,[5,25],0.1)"
   ]
  },
  {
   "cell_type": "code",
   "execution_count": 206,
   "metadata": {},
   "outputs": [
    {
     "data": {
      "image/png": "[encoded data removed]",
      "text/plain": [
       "<Figure size 432x288 with 1 Axes>"
      ]
     },
     "metadata": {
      "needs_background": "light"
     },
     "output_type": "display_data"
    }
   ],
   "source": [
    "plt.plot(e_tr_t)\n",
    "plt.show()"
   ]
  },
  {
   "cell_type": "code",
   "execution_count": 207,
   "metadata": {},
   "outputs": [
    {
     "data": {
      "image/png": "[encoded data removed]",
      "text/plain": [
       "<Figure size 432x288 with 1 Axes>"
      ]
     },
     "metadata": {
      "needs_background": "light"
     },
     "output_type": "display_data"
    }
   ],
   "source": [
    "plt.plot(e_te_t)\n",
    "plt.show()"
   ]
  },
  {
   "cell_type": "code",
   "execution_count": null,
   "metadata": {},
   "outputs": [],
   "source": []
  }
 ],
 "metadata": {
  "kernelspec": {
   "display_name": "Python 3",
   "language": "python",
   "name": "python3"
  },
  "language_info": {
   "codemirror_mode": {
    "name": "ipython",
    "version": 3
   },
   "file_extension": ".py",
   "mimetype": "text/x-python",
   "name": "python",
   "nbconvert_exporter": "python",
   "pygments_lexer": "ipython3",
   "version": "3.6.8"
  }
 },
 "nbformat": 4,
 "nbformat_minor": 2
}
